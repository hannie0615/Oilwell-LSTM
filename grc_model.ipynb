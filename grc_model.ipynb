{
 "cells": [
  {
   "cell_type": "code",
   "execution_count": 1,
   "id": "295213e2-faff-44e3-96a9-1962891c70bc",
   "metadata": {
    "scrolled": true
   },
   "outputs": [],
   "source": [
    "### 특정 컬럼 삭제 ###\n",
    "# df = df.drop(['Unnamed: 0','timestamp'], axis= 1)\n",
    "\n",
    "\n",
    "### DataFrame To csv ###\n",
    "# df.to_csv('C:/Users/KETI/grc_v1.0/data_real.csv', index = None)\n",
    "\n",
    "\n",
    "### 리스트 내 element 존재 여부 검사 ###\n",
    "# if 0 in label:\n",
    "#     print(\"True\")\n",
    "# else :\n",
    "#     print(\"X\")\n",
    "\n",
    "\n",
    "### 두 파일 합치기 ###\n",
    "\n",
    "# 파일 경로 설정\n",
    "# real_csv_path = output_dir + 'real_class_8.csv'\n",
    "# simulated_csv_path = output_dir + 'simulated_class_8.csv'\n",
    "# combined_csv_path = output_dir + 'combined_class_8.csv'\n",
    "\n",
    "# # 각 파일을 데이터프레임으로 불러오기\n",
    "# real_df = pd.read_csv(real_csv_path)\n",
    "# simulated_df = pd.read_csv(simulated_csv_path)\n",
    "\n",
    "# # 두 데이터프레임 합치기\n",
    "# combined_df = pd.concat([real_df, simulated_df], ignore_index=True)\n",
    "\n",
    "# # 합쳐진 데이터프레임을 새로운 CSV 파일로 저장\n",
    "# combined_df.to_csv(combined_csv_path, index=False)\n",
    "\n",
    "# print(f\"Combined CSV saved to {combined_csv_path}\")\n",
    "\n",
    "\n",
    "### class 별로 나누어 각기 다른 csv로 저장 ###\n",
    "\n",
    "# # 주어진 class 값 목록과 그룹\n",
    "# class_groups = {\n",
    "#     (1, 101): \"class_1\",\n",
    "#     (2, 102): \"class_2\",\n",
    "#     (5, 105): \"class_5\",\n",
    "#     (6, 106): \"class_6\",\n",
    "#     (7, 107): \"class_7\",\n",
    "#     (8, 108): \"class_8\",\n",
    "#     (0,): \"class_0\",\n",
    "#     (3,): \"class_3\",\n",
    "#     (4,): \"class_4\"\n",
    "# }\n",
    "\n",
    "# # 각 class 그룹에 따라 데이터프레임 필터링 및 별도의 CSV 파일로 저장\n",
    "# for classes, group_name in class_groups.items():\n",
    "#     class_df = df[df['class'].isin(classes)]\n",
    "    \n",
    "#     # 선택된 행을 새로운 CSV 파일로 저장\n",
    "#     output_file = f\"{output_dir}/real_{group_name}.csv\"\n",
    "#     class_df.to_csv(output_file, index=False)\n",
    "\n",
    "# print(\"Files saved successfully!\")\n",
    "\n",
    "\n",
    "### 데이터의 수를 맞춘 BALANCED_DATA로 Re-Constructed ###\n",
    "\n",
    "## CSV 파일 불러오기\n",
    "#df = pd.read_csv('combined_train_file.csv')\n",
    "\n",
    "## \"t-tpt\" 컬럼 제거\n",
    "#df = df.drop(columns=['T-TPT'])\n",
    "\n",
    "## 각 클래스별 데이터 수 세기\n",
    "#class_counts = df['class'].value_counts()\n",
    "\n",
    "## 가장 작은 데이터 양 찾기\n",
    "#min_count = class_counts.min()\n",
    "\n",
    "## 0번 클래스 데이터: min_count의 2배 만큼 뽑기\n",
    "## 0번 클래스의 데이터 양이 2 * min_count 보다 적으면 그만큼만 뽑습니다.\n",
    "#class_0_data = df[df['class'] == 0].sample(n=min(2 * min_count, class_counts[0]))\n",
    "\n",
    "## 다른 클래스 데이터: min_count만큼 뽑기\n",
    "#other_classes_data = pd.concat(\n",
    "#    [df[df['class'] == cls].sample(min_count) for cls in class_counts.index if cls != 0]\n",
    "#)\n",
    "\n",
    "## 데이터 합치기\n",
    "#balanced_data = pd.concat([class_0_data, other_classes_data])\n",
    "\n",
    "## 결과 확인\n",
    "#print(balanced_data['class'].value_counts())\n",
    "\n",
    "## 필요한 경우, balanced_data를 새로운 CSV 파일로 저장\n",
    "#balanced_data.to_csv('C:/Users/KETI/grc/balanced_data.csv', index=False)\n",
    "\n",
    "\n",
    "### Make TestSet ###\n",
    "\n",
    "# # CSV 파일 불러오기\n",
    "# df = pd.read_csv('combined_train_file.csv')\n",
    "\n",
    "# # \"t-tpt\" 컬럼 제거\n",
    "# df = df.drop(columns=['T-TPT'])\n",
    "\n",
    "# # 이미 뽑힌 데이터 제거\n",
    "# # 이전에 balanced_data를 생성한 후, 이를 다시 저장하셨다면 그 파일을 불러와서 제거해야 합니다.\n",
    "# balanced_already = pd.read_csv('balanced_data.csv')  # 이미 뽑힌 데이터 불러오기\n",
    "# df = df.drop(balanced_already.index)\n",
    "\n",
    "# # 각 클래스별로 1000개씩 데이터 뽑기\n",
    "# sample_count = 1000\n",
    "# sampled_data = pd.concat([df[df['class'] == cls].sample(min(sample_count, len(df[df['class'] == cls])), replace=False) for cls in df['class'].unique()])\n",
    "\n",
    "# # 결과 확인\n",
    "# print(sampled_data['class'].value_counts())\n",
    "\n",
    "# # 필요한 경우, sampled_data를 새로운 CSV 파일로 저장\n",
    "# sampled_data.to_csv('C:/Users/KETI/grc/test.csv', index=False)"
   ]
  },
  {
   "cell_type": "code",
   "execution_count": 2,
   "id": "cb9e3cfe-ccfc-4672-ae60-00ef78b2fa5c",
   "metadata": {},
   "outputs": [],
   "source": [
    "import pandas as pd \n",
    "import numpy as np\n",
    "import os\n",
    "import csv\n",
    "from scipy import stats\n",
    "import tensorflow as tf\n",
    "import matplotlib.pyplot as plt\n",
    "\n",
    "from tensorflow.keras.layers import Dense, Input, TimeDistributed, LSTM, BatchNormalization, Dropout\n",
    "from tensorflow.keras.models import Model, load_model\n",
    "from tensorflow.keras.optimizers import Adam\n",
    "from sklearn.model_selection import train_test_split"
   ]
  },
  {
   "cell_type": "code",
   "execution_count": 3,
   "id": "146dfc5f-aa9d-4ca0-be84-7bdec969b37e",
   "metadata": {},
   "outputs": [
    {
     "name": "stdout",
     "output_type": "stream",
     "text": [
      "2 Physical GPUs, 2 Logical GPU\n"
     ]
    }
   ],
   "source": [
    "# gpu 할당 및 메모리 순차적 증가 설정 -> 메모리 과다 사용 방지\n",
    "gpus = tf.config.experimental.list_physical_devices('GPU')\n",
    "if gpus:\n",
    " try:\n",
    "    # 첫 번째 GPU만 사용하도록 설정\n",
    "    for gpu in gpus:\n",
    "        # 각 GPU에 대한 메모리 제한 설정\n",
    "        tf.config.experimental.set_virtual_device_configuration(\n",
    "            gpu,\n",
    "            [tf.config.experimental.VirtualDeviceConfiguration(memory_limit=40960)])  # 여기에 원하는 메모리 제한 크기를 MB 단위로 설정하세요.\n",
    "    logical_gpus = tf.config.experimental.list_logical_devices('GPU')\n",
    "    print(len(gpus), \"Physical GPUs,\", len(logical_gpus), \"Logical GPU\")\n",
    "    #for gpu in gpus:\n",
    "            #tf.config.experimental.set_memory_growth(gpu, True)\n",
    " except RuntimeError as e:\n",
    "    # GPU가 설정되어 있지 않은 경우 오류가 발생할 수 있습니다.\n",
    "    print(e)\n"
   ]
  },
  {
   "cell_type": "code",
   "execution_count": 12,
   "id": "00a91728-b202-4692-976e-78926c9f8eb0",
   "metadata": {},
   "outputs": [],
   "source": [
    "    X = []\n",
    "    Y = []\n",
    "    p_pdg = []\n",
    "    p_tpt = []\n",
    "    t_tpt = []\n",
    "    p_mon_ckp = []\n",
    "    t_jus_ckp = []\n",
    "    p_jus_ckgl = []\n",
    "    label = []\n",
    "    segment_sec = 5\n",
    "    \n",
    "    with open('balanced_data.csv', 'r') as file:\n",
    "        #df = pd.read_csv(file)\n",
    "        csv_reader = csv.DictReader(file)    \n",
    "        for csv_data in csv_reader:\n",
    "            for key, val in csv_data.items():\n",
    "                if key == \"P-PDG\":\n",
    "                    p_pdg.append(float(val))\n",
    "                elif key == \"P-TPT\":\n",
    "                    p_tpt.append(float(val))\n",
    "                elif key == \"T-TPT\":\n",
    "                    t_tpt.append(float(val))\n",
    "                elif key == \"P-MON-CKP\":\n",
    "                    p_mon_ckp.append(float(val))\n",
    "                elif key == \"T-JUS-CKP\":\n",
    "                    t_jus_ckp.append(float(val))\n",
    "                elif key == \"P-JUS-CKGL\":\n",
    "                    p_jus_ckgl.append(float(val))\n",
    "                elif key == \"class\":\n",
    "                    if val == '0':\n",
    "                        label.append(0)\n",
    "                    elif val == '1':\n",
    "                        label.append(1)\n",
    "                    elif val == '101':\n",
    "                        label.append(1)\n",
    "                    elif val == '2':\n",
    "                        label.append(2)\n",
    "                    elif val == '102':\n",
    "                        label.append(2)\n",
    "                    elif val == '3':\n",
    "                        label.append(3)\n",
    "                    elif val == '4':\n",
    "                        label.append(4)\n",
    "                    elif val == '5':\n",
    "                        label.append(5)\n",
    "                    elif val == '105':\n",
    "                        label.append(5)\n",
    "                    elif val == '6':\n",
    "                        label.append(6)\n",
    "                    elif val == '106':\n",
    "                        label.append(6)\n",
    "                    elif val == '7':\n",
    "                        label.append(7)\n",
    "                    elif val == '107':\n",
    "                        label.append(7)\n",
    "                    elif val == '8':\n",
    "                        label.append(8)\n",
    "                    elif val == '108':\n",
    "                        label.append(8)"
   ]
  },
  {
   "cell_type": "code",
   "execution_count": 13,
   "id": "b23b003a-3a8e-4655-97ed-62e21def469a",
   "metadata": {},
   "outputs": [],
   "source": [
    "# Data concat \n",
    "# Simulated = P-PDG, P-TPT, P-MON-CKP, T-JUS-CKP\n",
    "# well = P-PDG, P-TPT, T-TPT, P-MON-CKP, T-JUS-CKP, P-JUS-CKGL\n",
    "\n",
    "p_pdg                = np.expand_dims(p_pdg, axis = 1)\n",
    "p_tpt                = np.expand_dims(p_tpt, axis = 1)\n",
    "#t_tpt                = np.expand_dims(t_tpt, axis = 1)\n",
    "p_mon_ckp            = np.expand_dims(p_mon_ckp, axis = 1)\n",
    "t_jus_ckp            = np.expand_dims(t_jus_ckp, axis = 1)\n",
    "#p_jus_ckgl           = np.expand_dims(p_jus_ckgl, axis = 1)\n",
    "\n",
    "    \n",
    "# Label\n",
    "label              = np.expand_dims(label, axis = 1)\n",
    "    \n",
    "# Real Data Concat\n",
    "#concat_data        = np.concatenate((p_pdg, p_tpt, t_tpt, p_mon_ckp, t_jus_ckp, p_jus_ckgl), axis = 1)\n",
    "\n",
    "# Simulated Data Concat\n",
    "concat_data        = np.concatenate((p_pdg, p_tpt, p_mon_ckp, t_jus_ckp), axis = 1)"
   ]
  },
  {
   "cell_type": "code",
   "execution_count": 14,
   "id": "a460d8a6-ac00-466a-875d-a89f1c331888",
   "metadata": {},
   "outputs": [],
   "source": [
    "# segment_sec를 간격으로 하나의 데이터 세트로 생성\n",
    "X = np.array([ concat_data[i:i+5] for i in range(0, len(concat_data) - segment_sec, segment_sec) ])\n",
    "        \n",
    "# segment_sec를 간격으로  하나의 Label을 생성.\n",
    "Y = np.expand_dims([stats.mode(label[i:i+segment_sec])[0][0] for i in range(0, len(concat_data) - segment_sec, segment_sec)], axis=1)"
   ]
  },
  {
   "cell_type": "code",
   "execution_count": 15,
   "id": "4fde8627-0a0f-4815-be41-eba55c3a7dc8",
   "metadata": {},
   "outputs": [],
   "source": [
    "X = np.array(X)\n",
    "Y = np.array(Y)"
   ]
  },
  {
   "cell_type": "code",
   "execution_count": 16,
   "id": "43ca7220-802f-47f1-b321-d556028c3597",
   "metadata": {},
   "outputs": [
    {
     "data": {
      "text/plain": [
       "array([[[0]],\n",
       "\n",
       "       [[0]],\n",
       "\n",
       "       [[0]],\n",
       "\n",
       "       ...,\n",
       "\n",
       "       [[7]],\n",
       "\n",
       "       [[7]],\n",
       "\n",
       "       [[7]]])"
      ]
     },
     "execution_count": 16,
     "metadata": {},
     "output_type": "execute_result"
    }
   ],
   "source": [
    "Y"
   ]
  },
  {
   "cell_type": "code",
   "execution_count": 17,
   "id": "110c7c55-8c82-4a4f-b64b-5d5f7c04301d",
   "metadata": {},
   "outputs": [
    {
     "data": {
      "text/plain": [
       "(82783, 5, 4)"
      ]
     },
     "execution_count": 17,
     "metadata": {},
     "output_type": "execute_result"
    }
   ],
   "source": [
    "np.shape(X)"
   ]
  },
  {
   "cell_type": "code",
   "execution_count": 18,
   "id": "ec0650a6-047b-42a4-b3ab-aaba3947a1a0",
   "metadata": {},
   "outputs": [
    {
     "data": {
      "text/plain": [
       "(82783, 1, 1)"
      ]
     },
     "execution_count": 18,
     "metadata": {},
     "output_type": "execute_result"
    }
   ],
   "source": [
    "np.shape(Y)"
   ]
  },
  {
   "cell_type": "code",
   "execution_count": 19,
   "id": "73a880f2-a06e-47bc-99f6-5d68901c1eb3",
   "metadata": {},
   "outputs": [],
   "source": [
    "Y = tf.keras.utils.to_categorical(Y) # one-hot encoding"
   ]
  },
  {
   "cell_type": "code",
   "execution_count": 27,
   "id": "5cf17b19-d60d-4bd8-91c6-24234d261e4a",
   "metadata": {
    "scrolled": true
   },
   "outputs": [
    {
     "data": {
      "text/plain": [
       "(82783, 5, 4)"
      ]
     },
     "execution_count": 27,
     "metadata": {},
     "output_type": "execute_result"
    }
   ],
   "source": [
    "np.shape(X)"
   ]
  },
  {
   "cell_type": "code",
   "execution_count": 26,
   "id": "cc0484a3-bcda-416f-8802-afa9fc31f511",
   "metadata": {},
   "outputs": [
    {
     "data": {
      "text/plain": [
       "(82783, 9)"
      ]
     },
     "execution_count": 26,
     "metadata": {},
     "output_type": "execute_result"
    }
   ],
   "source": [
    "np.shape(Y)"
   ]
  },
  {
   "cell_type": "code",
   "execution_count": 25,
   "id": "454edc51-4cd2-4f72-9cc0-6d421bc1ee4b",
   "metadata": {},
   "outputs": [],
   "source": [
    "Y = Y.reshape(-1,9)"
   ]
  },
  {
   "cell_type": "code",
   "execution_count": 28,
   "id": "2c053c02-d021-47ca-b8dc-1507153b360a",
   "metadata": {
    "scrolled": true
   },
   "outputs": [],
   "source": [
    "shape = X.shape\n",
    "reshape_X = np.reshape(X,(shape[0] * shape[1] ,shape[2]))\n",
    "\n",
    "avg = np.mean(reshape_X, axis=0)"
   ]
  },
  {
   "cell_type": "code",
   "execution_count": 29,
   "id": "ad5f8da5-00b2-4624-ba3b-8bb5138a7efb",
   "metadata": {},
   "outputs": [],
   "source": [
    "shape = X.shape\n",
    "reshape_X = np.reshape(X,(shape[0] * shape[1] ,shape[2]))\n",
    "\n",
    "std = np.std(reshape_X, axis=0)"
   ]
  },
  {
   "cell_type": "code",
   "execution_count": 30,
   "id": "94e22459-2561-4450-8397-8763be3700d9",
   "metadata": {},
   "outputs": [],
   "source": [
    "# X와 Y의 위치를 유지하며 random으로 섞기\n",
    "idxs = np.arange(X.shape[0])\n",
    "np.random.shuffle(idxs)\n",
    "\n",
    "Y = Y[idxs]\n",
    "X = X[idxs]"
   ]
  },
  {
   "cell_type": "code",
   "execution_count": 31,
   "id": "9c5a7bfa-d783-4ea5-9d4a-9a890d7fcaa8",
   "metadata": {},
   "outputs": [],
   "source": [
    "X = (X - avg) / std"
   ]
  },
  {
   "cell_type": "code",
   "execution_count": 32,
   "id": "9cad8f7c-3082-4df0-9f60-115b0bc9fe75",
   "metadata": {},
   "outputs": [
    {
     "data": {
      "text/plain": [
       "array([[[-2.95060361e+00,  3.81257011e-02,  2.19904487e+00,\n",
       "         -3.54358175e-01],\n",
       "        [-2.95060361e+00,  3.76459385e-02,  2.18805153e+00,\n",
       "         -3.50488232e-01],\n",
       "        [-2.95060361e+00,  3.78858198e-02,  2.19856823e+00,\n",
       "         -3.57866597e-01],\n",
       "        [-2.95060361e+00,  3.74060572e-02,  2.19433107e+00,\n",
       "         -3.52971497e-01],\n",
       "        [-2.95060361e+00,  2.94902155e-02,  1.73222286e+00,\n",
       "         -7.09430995e-02]],\n",
       "\n",
       "       [[ 3.38913704e-01, -1.32289730e-02, -9.35565126e-01,\n",
       "          9.43408975e-01],\n",
       "        [ 3.38913704e-01, -1.15155142e-01, -8.97796480e-01,\n",
       "          1.89960419e-01],\n",
       "        [ 3.38913704e-01, -4.77848633e-02, -9.65922482e-01,\n",
       "          3.96605294e-01],\n",
       "        [ 3.38913704e-01, -4.91891608e-02,  3.43125372e-01,\n",
       "         -8.45212444e-02],\n",
       "        [ 3.38913704e-01, -1.21567836e-01, -9.77925922e-01,\n",
       "          1.13813039e-01]],\n",
       "\n",
       "       [[ 3.38913704e-01, -1.33160775e-01, -2.24931800e-01,\n",
       "          1.74362207e-01],\n",
       "        [ 3.38913704e-01, -1.38908739e-01, -2.27870378e-01,\n",
       "         -1.50748684e-01],\n",
       "        [ 3.38913704e-01, -9.95864741e-02, -2.23020506e-01,\n",
       "          6.96249420e-01],\n",
       "        [ 3.38913704e-01, -1.39984874e-01, -2.27879246e-01,\n",
       "         -2.02241990e-01],\n",
       "        [ 3.38913704e-01, -8.22253220e-02,  3.24122996e-01,\n",
       "          3.70602683e+00]],\n",
       "\n",
       "       ...,\n",
       "\n",
       "       [[ 3.38913704e-01,  1.29693496e-01, -2.27788350e-01,\n",
       "         -1.39602070e+00],\n",
       "        [ 3.38913704e-01,  1.18518996e-01, -2.27734312e-01,\n",
       "         -1.20271854e+00],\n",
       "        [ 3.38913704e-01,  1.14456044e-01, -2.27727107e-01,\n",
       "         -1.45283841e+00],\n",
       "        [ 3.38913704e-01,  1.17461835e-01,  8.81486672e-01,\n",
       "         -1.60146293e+00],\n",
       "        [ 3.38913704e-01,  1.17351454e-01, -2.27742626e-01,\n",
       "         -1.49367780e+00]],\n",
       "\n",
       "       [[ 3.38913704e-01, -2.25583708e-02,  4.83664141e-01,\n",
       "          3.61427410e-01],\n",
       "        [ 3.38913704e-01,  2.68711981e-03,  1.28866560e+00,\n",
       "          1.32182207e-02],\n",
       "        [ 3.38913704e-01,  5.24808221e-02,  2.19546449e+00,\n",
       "          5.25584915e-01],\n",
       "        [ 3.38913704e-01, -5.80190765e-02, -8.58403635e-01,\n",
       "          7.53829894e-01],\n",
       "        [ 3.38913704e-01, -4.45051632e-02, -7.04979908e-01,\n",
       "          1.84167349e-01]],\n",
       "\n",
       "       [[ 3.38913704e-01,  1.10245677e-01, -2.27869269e-01,\n",
       "         -5.88204894e-01],\n",
       "        [ 3.38913704e-01,  7.56183635e-02,  1.44351123e+00,\n",
       "          7.67859575e-01],\n",
       "        [ 3.38913704e-01, -1.73052714e-02, -2.15799320e-01,\n",
       "          8.18999742e-01],\n",
       "        [ 3.38913704e-01,  1.26745979e-02, -2.14569186e-01,\n",
       "          1.26377929e+00],\n",
       "        [ 3.38913704e-01,  1.35204951e-02, -2.13919894e-01,\n",
       "          1.14205412e+00]]])"
      ]
     },
     "execution_count": 32,
     "metadata": {},
     "output_type": "execute_result"
    }
   ],
   "source": [
    "X"
   ]
  },
  {
   "cell_type": "code",
   "execution_count": 33,
   "id": "3ae6f730-d3b4-4c3e-9da8-10708450799b",
   "metadata": {},
   "outputs": [
    {
     "data": {
      "text/plain": [
       "array([[0., 0., 0., ..., 0., 1., 0.],\n",
       "       [1., 0., 0., ..., 0., 0., 0.],\n",
       "       [0., 0., 1., ..., 0., 0., 0.],\n",
       "       ...,\n",
       "       [0., 0., 0., ..., 0., 0., 1.],\n",
       "       [0., 0., 0., ..., 1., 0., 0.],\n",
       "       [0., 0., 0., ..., 0., 0., 1.]], dtype=float32)"
      ]
     },
     "execution_count": 33,
     "metadata": {},
     "output_type": "execute_result"
    }
   ],
   "source": [
    "Y"
   ]
  },
  {
   "cell_type": "code",
   "execution_count": 34,
   "id": "cbd0c595-fd19-4bfb-8956-82802b41fc98",
   "metadata": {
    "scrolled": true
   },
   "outputs": [
    {
     "data": {
      "text/plain": [
       "(82783, 5, 4)"
      ]
     },
     "execution_count": 34,
     "metadata": {},
     "output_type": "execute_result"
    }
   ],
   "source": [
    "np.shape(X)"
   ]
  },
  {
   "cell_type": "code",
   "execution_count": 35,
   "id": "4de87388-5a5b-4d4c-b3c9-b95a91b43d68",
   "metadata": {},
   "outputs": [
    {
     "data": {
      "text/plain": [
       "(82783, 9)"
      ]
     },
     "execution_count": 35,
     "metadata": {},
     "output_type": "execute_result"
    }
   ],
   "source": [
    "np.shape(Y)"
   ]
  },
  {
   "cell_type": "code",
   "execution_count": 36,
   "id": "ac07228f-fcfe-4e5b-bb86-dd8a092727ab",
   "metadata": {},
   "outputs": [],
   "source": [
    "X_train, X_test, Y_train, Y_test = train_test_split(X, Y, test_size=0.3, random_state=777, stratify=Y)"
   ]
  },
  {
   "cell_type": "code",
   "execution_count": 47,
   "id": "5789a02c-baf7-40b3-be21-6fce74698350",
   "metadata": {},
   "outputs": [],
   "source": [
    "# Epochs : 300 over -> Overfitting\n",
    "\n",
    "input_shape = (5,4)\n",
    "batch_size = 64\n",
    "epochs = 300\n",
    "\n",
    "lstm_input = Input(shape = (input_shape))\n",
    "lstm = TimeDistributed(Dense(20, activation = \"relu\"))(lstm_input)\n",
    "lstm = BatchNormalization()(lstm)\n",
    "lstm = LSTM(30, return_sequences = True)(lstm)\n",
    "lstm = Dropout(0.5)(lstm)\n",
    "lstm = LSTM(20)(lstm)\n",
    "lstm = Dropout(0.5)(lstm)\n",
    "lstm = Dense(10, activation = \"relu\")(lstm) \n",
    "lstm = Dense(9, activation = \"softmax\")(lstm)\n",
    "    \n",
    "model = Model(inputs = lstm_input, outputs = lstm)\n",
    "    \n",
    "opt = Adam(learning_rate=1e-5, beta_1=0.9, beta_2=0.999)\n",
    "model.compile(loss='categorical_crossentropy', optimizer=opt, metrics=[\"accuracy\"])"
   ]
  },
  {
   "cell_type": "code",
   "execution_count": 48,
   "id": "f53edb23-b13b-4b80-8d74-892cc8302860",
   "metadata": {},
   "outputs": [
    {
     "name": "stdout",
     "output_type": "stream",
     "text": [
      "Model: \"model_2\"\n",
      "_________________________________________________________________\n",
      " Layer (type)                Output Shape              Param #   \n",
      "=================================================================\n",
      " input_3 (InputLayer)        [(None, 5, 4)]            0         \n",
      "                                                                 \n",
      " time_distributed_2 (TimeDis  (None, 5, 20)            100       \n",
      " tributed)                                                       \n",
      "                                                                 \n",
      " batch_normalization_2 (Batc  (None, 5, 20)            80        \n",
      " hNormalization)                                                 \n",
      "                                                                 \n",
      " lstm_4 (LSTM)               (None, 5, 30)             6120      \n",
      "                                                                 \n",
      " dropout_4 (Dropout)         (None, 5, 30)             0         \n",
      "                                                                 \n",
      " lstm_5 (LSTM)               (None, 20)                4080      \n",
      "                                                                 \n",
      " dropout_5 (Dropout)         (None, 20)                0         \n",
      "                                                                 \n",
      " dense_7 (Dense)             (None, 10)                210       \n",
      "                                                                 \n",
      " dense_8 (Dense)             (None, 9)                 99        \n",
      "                                                                 \n",
      "=================================================================\n",
      "Total params: 10,689\n",
      "Trainable params: 10,649\n",
      "Non-trainable params: 40\n",
      "_________________________________________________________________\n"
     ]
    }
   ],
   "source": [
    "model.summary()"
   ]
  },
  {
   "cell_type": "code",
   "execution_count": 49,
   "id": "85268885-735b-458e-89c1-bc6e8c47a816",
   "metadata": {},
   "outputs": [
    {
     "data": {
      "text/plain": [
       "(57948, 5, 4)"
      ]
     },
     "execution_count": 49,
     "metadata": {},
     "output_type": "execute_result"
    }
   ],
   "source": [
    "np.shape(X_train)"
   ]
  },
  {
   "cell_type": "code",
   "execution_count": 50,
   "id": "20e2a1dd-5b8c-458c-901a-5293a66cd5ee",
   "metadata": {
    "scrolled": true
   },
   "outputs": [
    {
     "data": {
      "text/plain": [
       "(57948, 9)"
      ]
     },
     "execution_count": 50,
     "metadata": {},
     "output_type": "execute_result"
    }
   ],
   "source": [
    "np.shape(Y_train)"
   ]
  },
  {
   "cell_type": "code",
   "execution_count": 51,
   "id": "04f87740-2d94-48aa-92d4-b60f94f38dc7",
   "metadata": {},
   "outputs": [
    {
     "name": "stdout",
     "output_type": "stream",
     "text": [
      "Epoch 1/300\n",
      "906/906 [==============================] - 19s 19ms/step - loss: 2.1793 - accuracy: 0.1483 - val_loss: 2.1402 - val_accuracy: 0.1717\n",
      "Epoch 2/300\n",
      "906/906 [==============================] - 17s 18ms/step - loss: 2.1144 - accuracy: 0.1838 - val_loss: 2.0623 - val_accuracy: 0.2338\n",
      "Epoch 3/300\n",
      "906/906 [==============================] - 16s 18ms/step - loss: 2.0417 - accuracy: 0.2073 - val_loss: 1.9791 - val_accuracy: 0.3169\n",
      "Epoch 4/300\n",
      "906/906 [==============================] - 16s 18ms/step - loss: 1.9701 - accuracy: 0.2276 - val_loss: 1.8971 - val_accuracy: 0.3322\n",
      "Epoch 5/300\n",
      "906/906 [==============================] - 17s 18ms/step - loss: 1.9024 - accuracy: 0.2522 - val_loss: 1.8210 - val_accuracy: 0.3616\n",
      "Epoch 6/300\n",
      "906/906 [==============================] - 16s 18ms/step - loss: 1.8374 - accuracy: 0.2764 - val_loss: 1.7480 - val_accuracy: 0.4004\n",
      "Epoch 7/300\n",
      "906/906 [==============================] - 16s 18ms/step - loss: 1.7801 - accuracy: 0.3024 - val_loss: 1.6818 - val_accuracy: 0.4407\n",
      "Epoch 8/300\n",
      "906/906 [==============================] - 17s 18ms/step - loss: 1.7308 - accuracy: 0.3269 - val_loss: 1.6277 - val_accuracy: 0.5015\n",
      "Epoch 9/300\n",
      "906/906 [==============================] - 17s 19ms/step - loss: 1.6820 - accuracy: 0.3552 - val_loss: 1.5751 - val_accuracy: 0.5442\n",
      "Epoch 10/300\n",
      "906/906 [==============================] - 17s 18ms/step - loss: 1.6441 - accuracy: 0.3786 - val_loss: 1.5266 - val_accuracy: 0.5653\n",
      "Epoch 11/300\n",
      "906/906 [==============================] - 19s 20ms/step - loss: 1.6022 - accuracy: 0.4071 - val_loss: 1.4823 - val_accuracy: 0.5733\n",
      "Epoch 12/300\n",
      "906/906 [==============================] - 17s 19ms/step - loss: 1.5622 - accuracy: 0.4339 - val_loss: 1.4367 - val_accuracy: 0.5771\n",
      "Epoch 13/300\n",
      "906/906 [==============================] - 17s 19ms/step - loss: 1.5260 - accuracy: 0.4550 - val_loss: 1.3897 - val_accuracy: 0.5761\n",
      "Epoch 14/300\n",
      "906/906 [==============================] - 17s 19ms/step - loss: 1.4891 - accuracy: 0.4764 - val_loss: 1.3470 - val_accuracy: 0.5729\n",
      "Epoch 15/300\n",
      "906/906 [==============================] - 17s 19ms/step - loss: 1.4553 - accuracy: 0.4915 - val_loss: 1.3039 - val_accuracy: 0.5725\n",
      "Epoch 16/300\n",
      "906/906 [==============================] - 17s 18ms/step - loss: 1.4202 - accuracy: 0.5117 - val_loss: 1.2630 - val_accuracy: 0.5754\n",
      "Epoch 17/300\n",
      "906/906 [==============================] - 17s 18ms/step - loss: 1.3876 - accuracy: 0.5270 - val_loss: 1.2233 - val_accuracy: 0.5849\n",
      "Epoch 18/300\n",
      "906/906 [==============================] - 15s 17ms/step - loss: 1.3556 - accuracy: 0.5399 - val_loss: 1.1902 - val_accuracy: 0.5943\n",
      "Epoch 19/300\n",
      "906/906 [==============================] - 16s 18ms/step - loss: 1.3263 - accuracy: 0.5529 - val_loss: 1.1520 - val_accuracy: 0.6027\n",
      "Epoch 20/300\n",
      "906/906 [==============================] - 17s 18ms/step - loss: 1.2974 - accuracy: 0.5644 - val_loss: 1.1204 - val_accuracy: 0.6138\n",
      "Epoch 21/300\n",
      "906/906 [==============================] - 16s 18ms/step - loss: 1.2677 - accuracy: 0.5754 - val_loss: 1.0875 - val_accuracy: 0.6336\n",
      "Epoch 22/300\n",
      "906/906 [==============================] - 16s 18ms/step - loss: 1.2388 - accuracy: 0.5874 - val_loss: 1.0531 - val_accuracy: 0.6588\n",
      "Epoch 23/300\n",
      "906/906 [==============================] - 14s 16ms/step - loss: 1.2082 - accuracy: 0.5990 - val_loss: 1.0209 - val_accuracy: 0.6746\n",
      "Epoch 24/300\n",
      "906/906 [==============================] - 17s 18ms/step - loss: 1.1828 - accuracy: 0.6109 - val_loss: 0.9867 - val_accuracy: 0.6866\n",
      "Epoch 25/300\n",
      "906/906 [==============================] - 17s 18ms/step - loss: 1.1527 - accuracy: 0.6216 - val_loss: 0.9591 - val_accuracy: 0.6951\n",
      "Epoch 26/300\n",
      "906/906 [==============================] - 17s 18ms/step - loss: 1.1271 - accuracy: 0.6329 - val_loss: 0.9331 - val_accuracy: 0.7023\n",
      "Epoch 27/300\n",
      "906/906 [==============================] - 17s 19ms/step - loss: 1.1000 - accuracy: 0.6421 - val_loss: 0.9036 - val_accuracy: 0.7094\n",
      "Epoch 28/300\n",
      "906/906 [==============================] - 17s 19ms/step - loss: 1.0781 - accuracy: 0.6490 - val_loss: 0.8759 - val_accuracy: 0.7161\n",
      "Epoch 29/300\n",
      "906/906 [==============================] - 17s 19ms/step - loss: 1.0557 - accuracy: 0.6572 - val_loss: 0.8532 - val_accuracy: 0.7202\n",
      "Epoch 30/300\n",
      "906/906 [==============================] - 17s 19ms/step - loss: 1.0306 - accuracy: 0.6646 - val_loss: 0.8288 - val_accuracy: 0.7253\n",
      "Epoch 31/300\n",
      "906/906 [==============================] - 17s 19ms/step - loss: 1.0075 - accuracy: 0.6712 - val_loss: 0.8041 - val_accuracy: 0.7301\n",
      "Epoch 32/300\n",
      "906/906 [==============================] - 17s 18ms/step - loss: 0.9888 - accuracy: 0.6757 - val_loss: 0.7845 - val_accuracy: 0.7331\n",
      "Epoch 33/300\n",
      "906/906 [==============================] - 17s 19ms/step - loss: 0.9691 - accuracy: 0.6804 - val_loss: 0.7603 - val_accuracy: 0.7363\n",
      "Epoch 34/300\n",
      "906/906 [==============================] - 17s 19ms/step - loss: 0.9490 - accuracy: 0.6893 - val_loss: 0.7433 - val_accuracy: 0.7379\n",
      "Epoch 35/300\n",
      "906/906 [==============================] - 17s 18ms/step - loss: 0.9285 - accuracy: 0.6934 - val_loss: 0.7262 - val_accuracy: 0.7394\n",
      "Epoch 36/300\n",
      "906/906 [==============================] - 16s 18ms/step - loss: 0.9115 - accuracy: 0.6981 - val_loss: 0.7079 - val_accuracy: 0.7416\n",
      "Epoch 37/300\n",
      "906/906 [==============================] - 17s 18ms/step - loss: 0.8924 - accuracy: 0.7017 - val_loss: 0.6888 - val_accuracy: 0.7443\n",
      "Epoch 38/300\n",
      "906/906 [==============================] - 17s 19ms/step - loss: 0.8758 - accuracy: 0.7066 - val_loss: 0.6746 - val_accuracy: 0.7450\n",
      "Epoch 39/300\n",
      "906/906 [==============================] - 17s 18ms/step - loss: 0.8592 - accuracy: 0.7134 - val_loss: 0.6591 - val_accuracy: 0.7456\n",
      "Epoch 40/300\n",
      "906/906 [==============================] - 17s 18ms/step - loss: 0.8413 - accuracy: 0.7186 - val_loss: 0.6435 - val_accuracy: 0.7481\n",
      "Epoch 41/300\n",
      "906/906 [==============================] - 17s 18ms/step - loss: 0.8271 - accuracy: 0.7252 - val_loss: 0.6276 - val_accuracy: 0.7506\n",
      "Epoch 42/300\n",
      "906/906 [==============================] - 17s 19ms/step - loss: 0.8125 - accuracy: 0.7316 - val_loss: 0.6114 - val_accuracy: 0.7535\n",
      "Epoch 43/300\n",
      "906/906 [==============================] - 17s 18ms/step - loss: 0.8003 - accuracy: 0.7378 - val_loss: 0.5988 - val_accuracy: 0.7562\n",
      "Epoch 44/300\n",
      "906/906 [==============================] - 17s 18ms/step - loss: 0.7836 - accuracy: 0.7472 - val_loss: 0.5834 - val_accuracy: 0.7624\n",
      "Epoch 45/300\n",
      "906/906 [==============================] - 17s 19ms/step - loss: 0.7694 - accuracy: 0.7548 - val_loss: 0.5708 - val_accuracy: 0.7732\n",
      "Epoch 46/300\n",
      "906/906 [==============================] - 16s 18ms/step - loss: 0.7573 - accuracy: 0.7606 - val_loss: 0.5559 - val_accuracy: 0.8416\n",
      "Epoch 47/300\n",
      "906/906 [==============================] - 16s 18ms/step - loss: 0.7409 - accuracy: 0.7705 - val_loss: 0.5397 - val_accuracy: 0.8646\n",
      "Epoch 48/300\n",
      "906/906 [==============================] - 17s 18ms/step - loss: 0.7272 - accuracy: 0.7814 - val_loss: 0.5292 - val_accuracy: 0.8752\n",
      "Epoch 49/300\n",
      "906/906 [==============================] - 17s 19ms/step - loss: 0.7136 - accuracy: 0.7902 - val_loss: 0.5168 - val_accuracy: 0.8811\n",
      "Epoch 50/300\n",
      "906/906 [==============================] - 17s 18ms/step - loss: 0.6996 - accuracy: 0.8004 - val_loss: 0.5022 - val_accuracy: 0.8837\n",
      "Epoch 51/300\n",
      "906/906 [==============================] - 15s 16ms/step - loss: 0.6918 - accuracy: 0.8054 - val_loss: 0.4885 - val_accuracy: 0.8860\n",
      "Epoch 52/300\n",
      "906/906 [==============================] - 17s 19ms/step - loss: 0.6723 - accuracy: 0.8164 - val_loss: 0.4751 - val_accuracy: 0.8871\n",
      "Epoch 53/300\n",
      "906/906 [==============================] - 15s 16ms/step - loss: 0.6576 - accuracy: 0.8233 - val_loss: 0.4609 - val_accuracy: 0.8886\n",
      "Epoch 54/300\n",
      "906/906 [==============================] - 17s 19ms/step - loss: 0.6511 - accuracy: 0.8272 - val_loss: 0.4470 - val_accuracy: 0.8901\n",
      "Epoch 55/300\n",
      "906/906 [==============================] - 17s 19ms/step - loss: 0.6339 - accuracy: 0.8336 - val_loss: 0.4337 - val_accuracy: 0.8911\n",
      "Epoch 56/300\n",
      "906/906 [==============================] - 17s 19ms/step - loss: 0.6197 - accuracy: 0.8361 - val_loss: 0.4202 - val_accuracy: 0.8916\n",
      "Epoch 57/300\n",
      "906/906 [==============================] - 17s 19ms/step - loss: 0.6087 - accuracy: 0.8410 - val_loss: 0.4071 - val_accuracy: 0.8929\n",
      "Epoch 58/300\n",
      "906/906 [==============================] - 15s 16ms/step - loss: 0.5892 - accuracy: 0.8452 - val_loss: 0.3915 - val_accuracy: 0.8945\n",
      "Epoch 59/300\n",
      "906/906 [==============================] - 17s 18ms/step - loss: 0.5826 - accuracy: 0.8440 - val_loss: 0.3791 - val_accuracy: 0.8959\n",
      "Epoch 60/300\n",
      "906/906 [==============================] - 17s 18ms/step - loss: 0.5660 - accuracy: 0.8475 - val_loss: 0.3651 - val_accuracy: 0.8970\n",
      "Epoch 61/300\n",
      "906/906 [==============================] - 17s 19ms/step - loss: 0.5505 - accuracy: 0.8491 - val_loss: 0.3515 - val_accuracy: 0.8978\n",
      "Epoch 62/300\n",
      "906/906 [==============================] - 17s 19ms/step - loss: 0.5376 - accuracy: 0.8519 - val_loss: 0.3394 - val_accuracy: 0.8989\n",
      "Epoch 63/300\n",
      "906/906 [==============================] - 17s 19ms/step - loss: 0.5297 - accuracy: 0.8518 - val_loss: 0.3276 - val_accuracy: 0.8995\n",
      "Epoch 64/300\n",
      "906/906 [==============================] - 17s 19ms/step - loss: 0.5195 - accuracy: 0.8522 - val_loss: 0.3153 - val_accuracy: 0.9002\n",
      "Epoch 65/300\n",
      "906/906 [==============================] - 17s 18ms/step - loss: 0.5051 - accuracy: 0.8542 - val_loss: 0.3051 - val_accuracy: 0.9009\n",
      "Epoch 66/300\n",
      "906/906 [==============================] - 17s 19ms/step - loss: 0.4924 - accuracy: 0.8567 - val_loss: 0.2941 - val_accuracy: 0.9022\n",
      "Epoch 67/300\n",
      "906/906 [==============================] - 15s 17ms/step - loss: 0.4864 - accuracy: 0.8570 - val_loss: 0.2849 - val_accuracy: 0.9026\n",
      "Epoch 68/300\n",
      "906/906 [==============================] - 17s 19ms/step - loss: 0.4720 - accuracy: 0.8591 - val_loss: 0.2735 - val_accuracy: 0.9047\n",
      "Epoch 69/300\n",
      "906/906 [==============================] - 17s 19ms/step - loss: 0.4644 - accuracy: 0.8601 - val_loss: 0.2647 - val_accuracy: 0.9058\n",
      "Epoch 70/300\n",
      "906/906 [==============================] - 15s 17ms/step - loss: 0.4575 - accuracy: 0.8589 - val_loss: 0.2588 - val_accuracy: 0.9061\n",
      "Epoch 71/300\n",
      "906/906 [==============================] - 18s 20ms/step - loss: 0.4494 - accuracy: 0.8605 - val_loss: 0.2519 - val_accuracy: 0.9067\n",
      "Epoch 72/300\n",
      "906/906 [==============================] - 16s 18ms/step - loss: 0.4395 - accuracy: 0.8633 - val_loss: 0.2462 - val_accuracy: 0.9082\n",
      "Epoch 73/300\n",
      "906/906 [==============================] - 16s 18ms/step - loss: 0.4352 - accuracy: 0.8627 - val_loss: 0.2387 - val_accuracy: 0.9093\n",
      "Epoch 74/300\n",
      "906/906 [==============================] - 15s 17ms/step - loss: 0.4264 - accuracy: 0.8664 - val_loss: 0.2336 - val_accuracy: 0.9105\n",
      "Epoch 75/300\n",
      "906/906 [==============================] - 17s 19ms/step - loss: 0.4174 - accuracy: 0.8696 - val_loss: 0.2281 - val_accuracy: 0.9115\n",
      "Epoch 76/300\n",
      "906/906 [==============================] - 18s 20ms/step - loss: 0.4187 - accuracy: 0.8669 - val_loss: 0.2234 - val_accuracy: 0.9118\n",
      "Epoch 77/300\n",
      "906/906 [==============================] - 18s 20ms/step - loss: 0.4064 - accuracy: 0.8696 - val_loss: 0.2182 - val_accuracy: 0.9129\n",
      "Epoch 78/300\n",
      "906/906 [==============================] - 18s 20ms/step - loss: 0.4005 - accuracy: 0.8728 - val_loss: 0.2151 - val_accuracy: 0.9141\n",
      "Epoch 79/300\n",
      "906/906 [==============================] - 17s 19ms/step - loss: 0.3967 - accuracy: 0.8728 - val_loss: 0.2105 - val_accuracy: 0.9147\n",
      "Epoch 80/300\n",
      "906/906 [==============================] - 18s 20ms/step - loss: 0.3909 - accuracy: 0.8735 - val_loss: 0.2074 - val_accuracy: 0.9156\n",
      "Epoch 81/300\n",
      "906/906 [==============================] - 15s 17ms/step - loss: 0.3857 - accuracy: 0.8753 - val_loss: 0.2028 - val_accuracy: 0.9169\n",
      "Epoch 82/300\n",
      "906/906 [==============================] - 17s 18ms/step - loss: 0.3818 - accuracy: 0.8756 - val_loss: 0.2007 - val_accuracy: 0.9181\n",
      "Epoch 83/300\n",
      "906/906 [==============================] - 17s 18ms/step - loss: 0.3768 - accuracy: 0.8777 - val_loss: 0.1960 - val_accuracy: 0.9190\n",
      "Epoch 84/300\n",
      "906/906 [==============================] - 17s 18ms/step - loss: 0.3686 - accuracy: 0.8805 - val_loss: 0.1936 - val_accuracy: 0.9202\n",
      "Epoch 85/300\n",
      "906/906 [==============================] - 17s 18ms/step - loss: 0.3676 - accuracy: 0.8789 - val_loss: 0.1897 - val_accuracy: 0.9216\n",
      "Epoch 86/300\n",
      "906/906 [==============================] - 17s 19ms/step - loss: 0.3637 - accuracy: 0.8817 - val_loss: 0.1871 - val_accuracy: 0.9222\n",
      "Epoch 87/300\n",
      "906/906 [==============================] - 17s 19ms/step - loss: 0.3560 - accuracy: 0.8847 - val_loss: 0.1835 - val_accuracy: 0.9237\n",
      "Epoch 88/300\n",
      "906/906 [==============================] - 16s 18ms/step - loss: 0.3558 - accuracy: 0.8837 - val_loss: 0.1812 - val_accuracy: 0.9240\n",
      "Epoch 89/300\n",
      "906/906 [==============================] - 16s 18ms/step - loss: 0.3488 - accuracy: 0.8867 - val_loss: 0.1783 - val_accuracy: 0.9254\n",
      "Epoch 90/300\n",
      "906/906 [==============================] - 16s 18ms/step - loss: 0.3444 - accuracy: 0.8885 - val_loss: 0.1760 - val_accuracy: 0.9260\n",
      "Epoch 91/300\n",
      "906/906 [==============================] - 17s 18ms/step - loss: 0.3439 - accuracy: 0.8887 - val_loss: 0.1743 - val_accuracy: 0.9281\n",
      "Epoch 92/300\n",
      "906/906 [==============================] - 17s 18ms/step - loss: 0.3393 - accuracy: 0.8894 - val_loss: 0.1712 - val_accuracy: 0.9294\n",
      "Epoch 93/300\n",
      "906/906 [==============================] - 16s 18ms/step - loss: 0.3391 - accuracy: 0.8895 - val_loss: 0.1692 - val_accuracy: 0.9304\n",
      "Epoch 94/300\n",
      "906/906 [==============================] - 17s 18ms/step - loss: 0.3326 - accuracy: 0.8925 - val_loss: 0.1669 - val_accuracy: 0.9333\n",
      "Epoch 95/300\n",
      "906/906 [==============================] - 16s 18ms/step - loss: 0.3269 - accuracy: 0.8932 - val_loss: 0.1652 - val_accuracy: 0.9338\n",
      "Epoch 96/300\n",
      "906/906 [==============================] - 17s 18ms/step - loss: 0.3203 - accuracy: 0.8954 - val_loss: 0.1626 - val_accuracy: 0.9355\n",
      "Epoch 97/300\n",
      "906/906 [==============================] - 16s 18ms/step - loss: 0.3235 - accuracy: 0.8943 - val_loss: 0.1612 - val_accuracy: 0.9361\n",
      "Epoch 98/300\n",
      "906/906 [==============================] - 16s 18ms/step - loss: 0.3152 - accuracy: 0.8961 - val_loss: 0.1582 - val_accuracy: 0.9375\n",
      "Epoch 99/300\n",
      "906/906 [==============================] - 16s 18ms/step - loss: 0.3151 - accuracy: 0.8976 - val_loss: 0.1563 - val_accuracy: 0.9400\n",
      "Epoch 100/300\n",
      "906/906 [==============================] - 16s 18ms/step - loss: 0.3118 - accuracy: 0.8998 - val_loss: 0.1550 - val_accuracy: 0.9415\n",
      "Epoch 101/300\n",
      "906/906 [==============================] - 16s 18ms/step - loss: 0.3101 - accuracy: 0.9002 - val_loss: 0.1533 - val_accuracy: 0.9430\n",
      "Epoch 102/300\n",
      "906/906 [==============================] - 16s 18ms/step - loss: 0.3068 - accuracy: 0.9006 - val_loss: 0.1519 - val_accuracy: 0.9460\n",
      "Epoch 103/300\n",
      "906/906 [==============================] - 17s 18ms/step - loss: 0.3064 - accuracy: 0.9018 - val_loss: 0.1503 - val_accuracy: 0.9463\n",
      "Epoch 104/300\n",
      "906/906 [==============================] - 16s 18ms/step - loss: 0.3011 - accuracy: 0.9025 - val_loss: 0.1474 - val_accuracy: 0.9466\n",
      "Epoch 105/300\n",
      "906/906 [==============================] - 16s 18ms/step - loss: 0.2998 - accuracy: 0.9026 - val_loss: 0.1458 - val_accuracy: 0.9477\n",
      "Epoch 106/300\n",
      "906/906 [==============================] - 17s 18ms/step - loss: 0.2980 - accuracy: 0.9044 - val_loss: 0.1445 - val_accuracy: 0.9505\n",
      "Epoch 107/300\n",
      "906/906 [==============================] - 16s 18ms/step - loss: 0.2912 - accuracy: 0.9066 - val_loss: 0.1428 - val_accuracy: 0.9520\n",
      "Epoch 108/300\n",
      "906/906 [==============================] - 16s 18ms/step - loss: 0.2911 - accuracy: 0.9053 - val_loss: 0.1402 - val_accuracy: 0.9540\n",
      "Epoch 109/300\n",
      "906/906 [==============================] - 16s 18ms/step - loss: 0.2888 - accuracy: 0.9086 - val_loss: 0.1407 - val_accuracy: 0.9543\n",
      "Epoch 110/300\n",
      "906/906 [==============================] - 17s 19ms/step - loss: 0.2861 - accuracy: 0.9089 - val_loss: 0.1376 - val_accuracy: 0.9562\n",
      "Epoch 111/300\n",
      "906/906 [==============================] - 16s 18ms/step - loss: 0.2836 - accuracy: 0.9101 - val_loss: 0.1367 - val_accuracy: 0.9575\n",
      "Epoch 112/300\n",
      "906/906 [==============================] - 17s 19ms/step - loss: 0.2799 - accuracy: 0.9123 - val_loss: 0.1344 - val_accuracy: 0.9584\n",
      "Epoch 113/300\n",
      "906/906 [==============================] - 17s 18ms/step - loss: 0.2777 - accuracy: 0.9116 - val_loss: 0.1331 - val_accuracy: 0.9603\n",
      "Epoch 114/300\n",
      "906/906 [==============================] - 16s 18ms/step - loss: 0.2758 - accuracy: 0.9127 - val_loss: 0.1318 - val_accuracy: 0.9607\n",
      "Epoch 115/300\n",
      "906/906 [==============================] - 17s 18ms/step - loss: 0.2767 - accuracy: 0.9134 - val_loss: 0.1305 - val_accuracy: 0.9615\n",
      "Epoch 116/300\n",
      "906/906 [==============================] - 16s 18ms/step - loss: 0.2700 - accuracy: 0.9150 - val_loss: 0.1306 - val_accuracy: 0.9620\n",
      "Epoch 117/300\n",
      "906/906 [==============================] - 16s 18ms/step - loss: 0.2710 - accuracy: 0.9148 - val_loss: 0.1280 - val_accuracy: 0.9622\n",
      "Epoch 118/300\n",
      "906/906 [==============================] - 16s 18ms/step - loss: 0.2708 - accuracy: 0.9142 - val_loss: 0.1265 - val_accuracy: 0.9627\n",
      "Epoch 119/300\n",
      "906/906 [==============================] - 16s 18ms/step - loss: 0.2713 - accuracy: 0.9153 - val_loss: 0.1243 - val_accuracy: 0.9636\n",
      "Epoch 120/300\n",
      "906/906 [==============================] - 17s 18ms/step - loss: 0.2653 - accuracy: 0.9163 - val_loss: 0.1239 - val_accuracy: 0.9651\n",
      "Epoch 121/300\n",
      "906/906 [==============================] - 16s 18ms/step - loss: 0.2659 - accuracy: 0.9172 - val_loss: 0.1230 - val_accuracy: 0.9650\n",
      "Epoch 122/300\n",
      "906/906 [==============================] - 17s 18ms/step - loss: 0.2588 - accuracy: 0.9194 - val_loss: 0.1213 - val_accuracy: 0.9650\n",
      "Epoch 123/300\n",
      "906/906 [==============================] - 17s 19ms/step - loss: 0.2596 - accuracy: 0.9194 - val_loss: 0.1212 - val_accuracy: 0.9660\n",
      "Epoch 124/300\n",
      "906/906 [==============================] - 17s 19ms/step - loss: 0.2554 - accuracy: 0.9214 - val_loss: 0.1187 - val_accuracy: 0.9663\n",
      "Epoch 125/300\n",
      "906/906 [==============================] - 17s 19ms/step - loss: 0.2565 - accuracy: 0.9208 - val_loss: 0.1177 - val_accuracy: 0.9668\n",
      "Epoch 126/300\n",
      "906/906 [==============================] - 15s 16ms/step - loss: 0.2530 - accuracy: 0.9221 - val_loss: 0.1167 - val_accuracy: 0.9675\n",
      "Epoch 127/300\n",
      "906/906 [==============================] - 17s 18ms/step - loss: 0.2466 - accuracy: 0.9235 - val_loss: 0.1145 - val_accuracy: 0.9682\n",
      "Epoch 128/300\n",
      "906/906 [==============================] - 16s 18ms/step - loss: 0.2516 - accuracy: 0.9217 - val_loss: 0.1133 - val_accuracy: 0.9683\n",
      "Epoch 129/300\n",
      "906/906 [==============================] - 16s 18ms/step - loss: 0.2486 - accuracy: 0.9237 - val_loss: 0.1135 - val_accuracy: 0.9686\n",
      "Epoch 130/300\n",
      "906/906 [==============================] - 17s 18ms/step - loss: 0.2481 - accuracy: 0.9235 - val_loss: 0.1119 - val_accuracy: 0.9694\n",
      "Epoch 131/300\n",
      "906/906 [==============================] - 17s 18ms/step - loss: 0.2491 - accuracy: 0.9257 - val_loss: 0.1116 - val_accuracy: 0.9690\n",
      "Epoch 132/300\n",
      "906/906 [==============================] - 17s 18ms/step - loss: 0.2440 - accuracy: 0.9268 - val_loss: 0.1100 - val_accuracy: 0.9692\n",
      "Epoch 133/300\n",
      "906/906 [==============================] - 17s 18ms/step - loss: 0.2411 - accuracy: 0.9269 - val_loss: 0.1086 - val_accuracy: 0.9697\n",
      "Epoch 134/300\n",
      "906/906 [==============================] - 16s 18ms/step - loss: 0.2388 - accuracy: 0.9265 - val_loss: 0.1075 - val_accuracy: 0.9698\n",
      "Epoch 135/300\n",
      "906/906 [==============================] - 17s 19ms/step - loss: 0.2366 - accuracy: 0.9269 - val_loss: 0.1060 - val_accuracy: 0.9705\n",
      "Epoch 136/300\n",
      "906/906 [==============================] - 17s 19ms/step - loss: 0.2362 - accuracy: 0.9286 - val_loss: 0.1059 - val_accuracy: 0.9706\n",
      "Epoch 137/300\n",
      "906/906 [==============================] - 17s 19ms/step - loss: 0.2349 - accuracy: 0.9290 - val_loss: 0.1042 - val_accuracy: 0.9711\n",
      "Epoch 138/300\n",
      "906/906 [==============================] - 17s 19ms/step - loss: 0.2317 - accuracy: 0.9283 - val_loss: 0.1037 - val_accuracy: 0.9711\n",
      "Epoch 139/300\n",
      "906/906 [==============================] - 16s 18ms/step - loss: 0.2263 - accuracy: 0.9322 - val_loss: 0.1025 - val_accuracy: 0.9713\n",
      "Epoch 140/300\n",
      "906/906 [==============================] - 16s 18ms/step - loss: 0.2297 - accuracy: 0.9316 - val_loss: 0.1015 - val_accuracy: 0.9714\n",
      "Epoch 141/300\n",
      "906/906 [==============================] - 17s 19ms/step - loss: 0.2284 - accuracy: 0.9314 - val_loss: 0.1003 - val_accuracy: 0.9717\n",
      "Epoch 142/300\n",
      "906/906 [==============================] - 17s 19ms/step - loss: 0.2279 - accuracy: 0.9314 - val_loss: 0.0999 - val_accuracy: 0.9717\n",
      "Epoch 143/300\n",
      "906/906 [==============================] - 17s 19ms/step - loss: 0.2261 - accuracy: 0.9319 - val_loss: 0.0988 - val_accuracy: 0.9719\n",
      "Epoch 144/300\n",
      "906/906 [==============================] - 17s 18ms/step - loss: 0.2239 - accuracy: 0.9320 - val_loss: 0.0987 - val_accuracy: 0.9718\n",
      "Epoch 145/300\n",
      "906/906 [==============================] - 17s 19ms/step - loss: 0.2217 - accuracy: 0.9332 - val_loss: 0.0976 - val_accuracy: 0.9719\n",
      "Epoch 146/300\n",
      "906/906 [==============================] - 18s 20ms/step - loss: 0.2213 - accuracy: 0.9333 - val_loss: 0.0960 - val_accuracy: 0.9725\n",
      "Epoch 147/300\n",
      "906/906 [==============================] - 18s 20ms/step - loss: 0.2213 - accuracy: 0.9336 - val_loss: 0.0955 - val_accuracy: 0.9729\n",
      "Epoch 148/300\n",
      "906/906 [==============================] - 17s 18ms/step - loss: 0.2164 - accuracy: 0.9358 - val_loss: 0.0946 - val_accuracy: 0.9726\n",
      "Epoch 149/300\n",
      "906/906 [==============================] - 17s 19ms/step - loss: 0.2183 - accuracy: 0.9354 - val_loss: 0.0942 - val_accuracy: 0.9724\n",
      "Epoch 150/300\n",
      "906/906 [==============================] - 16s 18ms/step - loss: 0.2191 - accuracy: 0.9334 - val_loss: 0.0942 - val_accuracy: 0.9723\n",
      "Epoch 151/300\n",
      "906/906 [==============================] - 17s 18ms/step - loss: 0.2135 - accuracy: 0.9367 - val_loss: 0.0925 - val_accuracy: 0.9728\n",
      "Epoch 152/300\n",
      "906/906 [==============================] - 17s 18ms/step - loss: 0.2137 - accuracy: 0.9365 - val_loss: 0.0921 - val_accuracy: 0.9727\n",
      "Epoch 153/300\n",
      "906/906 [==============================] - 17s 19ms/step - loss: 0.2117 - accuracy: 0.9371 - val_loss: 0.0911 - val_accuracy: 0.9727\n",
      "Epoch 154/300\n",
      "906/906 [==============================] - 17s 19ms/step - loss: 0.2133 - accuracy: 0.9360 - val_loss: 0.0897 - val_accuracy: 0.9733\n",
      "Epoch 155/300\n",
      "906/906 [==============================] - 17s 19ms/step - loss: 0.2094 - accuracy: 0.9363 - val_loss: 0.0895 - val_accuracy: 0.9733\n",
      "Epoch 156/300\n",
      "906/906 [==============================] - 17s 19ms/step - loss: 0.2114 - accuracy: 0.9378 - val_loss: 0.0884 - val_accuracy: 0.9738\n",
      "Epoch 157/300\n",
      "906/906 [==============================] - 17s 19ms/step - loss: 0.2095 - accuracy: 0.9377 - val_loss: 0.0876 - val_accuracy: 0.9737\n",
      "Epoch 158/300\n",
      "906/906 [==============================] - 17s 19ms/step - loss: 0.2075 - accuracy: 0.9381 - val_loss: 0.0871 - val_accuracy: 0.9738\n",
      "Epoch 159/300\n",
      "906/906 [==============================] - 17s 19ms/step - loss: 0.2028 - accuracy: 0.9382 - val_loss: 0.0872 - val_accuracy: 0.9739\n",
      "Epoch 160/300\n",
      "906/906 [==============================] - 17s 19ms/step - loss: 0.2045 - accuracy: 0.9400 - val_loss: 0.0860 - val_accuracy: 0.9742\n",
      "Epoch 161/300\n",
      "906/906 [==============================] - 17s 19ms/step - loss: 0.2054 - accuracy: 0.9380 - val_loss: 0.0851 - val_accuracy: 0.9744\n",
      "Epoch 162/300\n",
      "906/906 [==============================] - 17s 18ms/step - loss: 0.2005 - accuracy: 0.9393 - val_loss: 0.0840 - val_accuracy: 0.9744\n",
      "Epoch 163/300\n",
      "906/906 [==============================] - 17s 19ms/step - loss: 0.2012 - accuracy: 0.9401 - val_loss: 0.0848 - val_accuracy: 0.9741\n",
      "Epoch 164/300\n",
      "906/906 [==============================] - 17s 19ms/step - loss: 0.2001 - accuracy: 0.9399 - val_loss: 0.0839 - val_accuracy: 0.9745\n",
      "Epoch 165/300\n",
      "906/906 [==============================] - 17s 18ms/step - loss: 0.2013 - accuracy: 0.9403 - val_loss: 0.0834 - val_accuracy: 0.9748\n",
      "Epoch 166/300\n",
      "906/906 [==============================] - 15s 16ms/step - loss: 0.2013 - accuracy: 0.9414 - val_loss: 0.0825 - val_accuracy: 0.9748\n",
      "Epoch 167/300\n",
      "906/906 [==============================] - 17s 19ms/step - loss: 0.1951 - accuracy: 0.9428 - val_loss: 0.0817 - val_accuracy: 0.9749\n",
      "Epoch 168/300\n",
      "906/906 [==============================] - 17s 19ms/step - loss: 0.1958 - accuracy: 0.9422 - val_loss: 0.0810 - val_accuracy: 0.9753\n",
      "Epoch 169/300\n",
      "906/906 [==============================] - 17s 19ms/step - loss: 0.1971 - accuracy: 0.9413 - val_loss: 0.0811 - val_accuracy: 0.9754\n",
      "Epoch 170/300\n",
      "906/906 [==============================] - 17s 19ms/step - loss: 0.1934 - accuracy: 0.9428 - val_loss: 0.0809 - val_accuracy: 0.9754\n",
      "Epoch 171/300\n",
      "906/906 [==============================] - 17s 19ms/step - loss: 0.1917 - accuracy: 0.9422 - val_loss: 0.0798 - val_accuracy: 0.9758\n",
      "Epoch 172/300\n",
      "906/906 [==============================] - 17s 19ms/step - loss: 0.1923 - accuracy: 0.9420 - val_loss: 0.0788 - val_accuracy: 0.9759\n",
      "Epoch 173/300\n",
      "906/906 [==============================] - 17s 19ms/step - loss: 0.1878 - accuracy: 0.9436 - val_loss: 0.0788 - val_accuracy: 0.9755\n",
      "Epoch 174/300\n",
      "906/906 [==============================] - 17s 19ms/step - loss: 0.1880 - accuracy: 0.9445 - val_loss: 0.0780 - val_accuracy: 0.9757\n",
      "Epoch 175/300\n",
      "906/906 [==============================] - 17s 19ms/step - loss: 0.1894 - accuracy: 0.9437 - val_loss: 0.0774 - val_accuracy: 0.9758\n",
      "Epoch 176/300\n",
      "906/906 [==============================] - 17s 19ms/step - loss: 0.1874 - accuracy: 0.9441 - val_loss: 0.0771 - val_accuracy: 0.9760\n",
      "Epoch 177/300\n",
      "906/906 [==============================] - 17s 19ms/step - loss: 0.1884 - accuracy: 0.9433 - val_loss: 0.0773 - val_accuracy: 0.9761\n",
      "Epoch 178/300\n",
      "906/906 [==============================] - 17s 19ms/step - loss: 0.1873 - accuracy: 0.9443 - val_loss: 0.0775 - val_accuracy: 0.9759\n",
      "Epoch 179/300\n",
      "906/906 [==============================] - 17s 18ms/step - loss: 0.1842 - accuracy: 0.9447 - val_loss: 0.0760 - val_accuracy: 0.9763\n",
      "Epoch 180/300\n",
      "906/906 [==============================] - 17s 19ms/step - loss: 0.1862 - accuracy: 0.9447 - val_loss: 0.0750 - val_accuracy: 0.9766\n",
      "Epoch 181/300\n",
      "906/906 [==============================] - 17s 19ms/step - loss: 0.1821 - accuracy: 0.9457 - val_loss: 0.0755 - val_accuracy: 0.9762\n",
      "Epoch 182/300\n",
      "906/906 [==============================] - 17s 19ms/step - loss: 0.1832 - accuracy: 0.9451 - val_loss: 0.0752 - val_accuracy: 0.9762\n",
      "Epoch 183/300\n",
      "906/906 [==============================] - 16s 18ms/step - loss: 0.1789 - accuracy: 0.9467 - val_loss: 0.0743 - val_accuracy: 0.9766\n",
      "Epoch 184/300\n",
      "906/906 [==============================] - 17s 19ms/step - loss: 0.1804 - accuracy: 0.9468 - val_loss: 0.0741 - val_accuracy: 0.9764\n",
      "Epoch 185/300\n",
      "906/906 [==============================] - 17s 18ms/step - loss: 0.1798 - accuracy: 0.9474 - val_loss: 0.0740 - val_accuracy: 0.9766\n",
      "Epoch 186/300\n",
      "906/906 [==============================] - 17s 18ms/step - loss: 0.1790 - accuracy: 0.9471 - val_loss: 0.0735 - val_accuracy: 0.9767\n",
      "Epoch 187/300\n",
      "906/906 [==============================] - 17s 19ms/step - loss: 0.1782 - accuracy: 0.9468 - val_loss: 0.0723 - val_accuracy: 0.9772\n",
      "Epoch 188/300\n",
      "906/906 [==============================] - 17s 19ms/step - loss: 0.1815 - accuracy: 0.9465 - val_loss: 0.0724 - val_accuracy: 0.9774\n",
      "Epoch 189/300\n",
      "906/906 [==============================] - 17s 19ms/step - loss: 0.1798 - accuracy: 0.9464 - val_loss: 0.0718 - val_accuracy: 0.9775\n",
      "Epoch 190/300\n",
      "906/906 [==============================] - 17s 18ms/step - loss: 0.1768 - accuracy: 0.9462 - val_loss: 0.0714 - val_accuracy: 0.9780\n",
      "Epoch 191/300\n",
      "906/906 [==============================] - 17s 18ms/step - loss: 0.1777 - accuracy: 0.9467 - val_loss: 0.0714 - val_accuracy: 0.9772\n",
      "Epoch 192/300\n",
      "906/906 [==============================] - 17s 19ms/step - loss: 0.1761 - accuracy: 0.9464 - val_loss: 0.0717 - val_accuracy: 0.9775\n",
      "Epoch 193/300\n",
      "906/906 [==============================] - 17s 19ms/step - loss: 0.1764 - accuracy: 0.9494 - val_loss: 0.0714 - val_accuracy: 0.9775\n",
      "Epoch 194/300\n",
      "906/906 [==============================] - 17s 19ms/step - loss: 0.1732 - accuracy: 0.9486 - val_loss: 0.0706 - val_accuracy: 0.9779\n",
      "Epoch 195/300\n",
      "906/906 [==============================] - 17s 19ms/step - loss: 0.1704 - accuracy: 0.9493 - val_loss: 0.0696 - val_accuracy: 0.9785\n",
      "Epoch 196/300\n",
      "906/906 [==============================] - 17s 19ms/step - loss: 0.1720 - accuracy: 0.9503 - val_loss: 0.0704 - val_accuracy: 0.9778\n",
      "Epoch 197/300\n",
      "906/906 [==============================] - 17s 19ms/step - loss: 0.1710 - accuracy: 0.9495 - val_loss: 0.0695 - val_accuracy: 0.9785\n",
      "Epoch 198/300\n",
      "906/906 [==============================] - 17s 19ms/step - loss: 0.1708 - accuracy: 0.9489 - val_loss: 0.0688 - val_accuracy: 0.9787\n",
      "Epoch 199/300\n",
      "906/906 [==============================] - 17s 19ms/step - loss: 0.1697 - accuracy: 0.9496 - val_loss: 0.0689 - val_accuracy: 0.9787\n",
      "Epoch 200/300\n",
      "906/906 [==============================] - 17s 19ms/step - loss: 0.1701 - accuracy: 0.9494 - val_loss: 0.0682 - val_accuracy: 0.9791\n",
      "Epoch 201/300\n",
      "906/906 [==============================] - 17s 19ms/step - loss: 0.1696 - accuracy: 0.9504 - val_loss: 0.0692 - val_accuracy: 0.9785\n",
      "Epoch 202/300\n",
      "906/906 [==============================] - 17s 18ms/step - loss: 0.1660 - accuracy: 0.9513 - val_loss: 0.0672 - val_accuracy: 0.9793\n",
      "Epoch 203/300\n",
      "906/906 [==============================] - 17s 19ms/step - loss: 0.1660 - accuracy: 0.9508 - val_loss: 0.0672 - val_accuracy: 0.9791\n",
      "Epoch 204/300\n",
      "906/906 [==============================] - 17s 19ms/step - loss: 0.1657 - accuracy: 0.9516 - val_loss: 0.0669 - val_accuracy: 0.9795\n",
      "Epoch 205/300\n",
      "906/906 [==============================] - 17s 19ms/step - loss: 0.1675 - accuracy: 0.9500 - val_loss: 0.0662 - val_accuracy: 0.9797\n",
      "Epoch 206/300\n",
      "906/906 [==============================] - 17s 19ms/step - loss: 0.1666 - accuracy: 0.9511 - val_loss: 0.0663 - val_accuracy: 0.9796\n",
      "Epoch 207/300\n",
      "906/906 [==============================] - 17s 19ms/step - loss: 0.1665 - accuracy: 0.9515 - val_loss: 0.0664 - val_accuracy: 0.9794\n",
      "Epoch 208/300\n",
      "906/906 [==============================] - 17s 19ms/step - loss: 0.1668 - accuracy: 0.9498 - val_loss: 0.0659 - val_accuracy: 0.9798\n",
      "Epoch 209/300\n",
      "906/906 [==============================] - 17s 19ms/step - loss: 0.1646 - accuracy: 0.9516 - val_loss: 0.0654 - val_accuracy: 0.9800\n",
      "Epoch 210/300\n",
      "906/906 [==============================] - 17s 19ms/step - loss: 0.1642 - accuracy: 0.9511 - val_loss: 0.0650 - val_accuracy: 0.9798\n",
      "Epoch 211/300\n",
      "906/906 [==============================] - 16s 18ms/step - loss: 0.1630 - accuracy: 0.9507 - val_loss: 0.0645 - val_accuracy: 0.9804\n",
      "Epoch 212/300\n",
      "906/906 [==============================] - 17s 18ms/step - loss: 0.1647 - accuracy: 0.9535 - val_loss: 0.0648 - val_accuracy: 0.9801\n",
      "Epoch 213/300\n",
      "906/906 [==============================] - 17s 19ms/step - loss: 0.1613 - accuracy: 0.9523 - val_loss: 0.0644 - val_accuracy: 0.9799\n",
      "Epoch 214/300\n",
      "906/906 [==============================] - 17s 19ms/step - loss: 0.1613 - accuracy: 0.9519 - val_loss: 0.0647 - val_accuracy: 0.9803\n",
      "Epoch 215/300\n",
      "906/906 [==============================] - 17s 19ms/step - loss: 0.1614 - accuracy: 0.9521 - val_loss: 0.0639 - val_accuracy: 0.9804\n",
      "Epoch 216/300\n",
      "906/906 [==============================] - 17s 19ms/step - loss: 0.1628 - accuracy: 0.9514 - val_loss: 0.0633 - val_accuracy: 0.9803\n",
      "Epoch 217/300\n",
      "906/906 [==============================] - 15s 17ms/step - loss: 0.1620 - accuracy: 0.9522 - val_loss: 0.0635 - val_accuracy: 0.9805\n",
      "Epoch 218/300\n",
      "906/906 [==============================] - 17s 19ms/step - loss: 0.1573 - accuracy: 0.9539 - val_loss: 0.0624 - val_accuracy: 0.9808\n",
      "Epoch 219/300\n",
      "906/906 [==============================] - 17s 19ms/step - loss: 0.1583 - accuracy: 0.9528 - val_loss: 0.0630 - val_accuracy: 0.9805\n",
      "Epoch 220/300\n",
      "906/906 [==============================] - 17s 19ms/step - loss: 0.1574 - accuracy: 0.9530 - val_loss: 0.0624 - val_accuracy: 0.9810\n",
      "Epoch 221/300\n",
      "906/906 [==============================] - 17s 19ms/step - loss: 0.1554 - accuracy: 0.9546 - val_loss: 0.0623 - val_accuracy: 0.9806\n",
      "Epoch 222/300\n",
      "906/906 [==============================] - 17s 19ms/step - loss: 0.1578 - accuracy: 0.9538 - val_loss: 0.0618 - val_accuracy: 0.9805\n",
      "Epoch 223/300\n",
      "906/906 [==============================] - 17s 19ms/step - loss: 0.1549 - accuracy: 0.9538 - val_loss: 0.0612 - val_accuracy: 0.9810\n",
      "Epoch 224/300\n",
      "906/906 [==============================] - 17s 19ms/step - loss: 0.1536 - accuracy: 0.9530 - val_loss: 0.0624 - val_accuracy: 0.9807\n",
      "Epoch 225/300\n",
      "906/906 [==============================] - 17s 18ms/step - loss: 0.1570 - accuracy: 0.9529 - val_loss: 0.0608 - val_accuracy: 0.9812\n",
      "Epoch 226/300\n",
      "906/906 [==============================] - 17s 19ms/step - loss: 0.1586 - accuracy: 0.9530 - val_loss: 0.0613 - val_accuracy: 0.9808\n",
      "Epoch 227/300\n",
      "906/906 [==============================] - 17s 19ms/step - loss: 0.1511 - accuracy: 0.9552 - val_loss: 0.0610 - val_accuracy: 0.9810\n",
      "Epoch 228/300\n",
      "906/906 [==============================] - 17s 19ms/step - loss: 0.1565 - accuracy: 0.9538 - val_loss: 0.0607 - val_accuracy: 0.9810\n",
      "Epoch 229/300\n",
      "906/906 [==============================] - 17s 19ms/step - loss: 0.1558 - accuracy: 0.9533 - val_loss: 0.0605 - val_accuracy: 0.9811\n",
      "Epoch 230/300\n",
      "906/906 [==============================] - 17s 19ms/step - loss: 0.1528 - accuracy: 0.9541 - val_loss: 0.0599 - val_accuracy: 0.9812\n",
      "Epoch 231/300\n",
      "906/906 [==============================] - 17s 19ms/step - loss: 0.1570 - accuracy: 0.9532 - val_loss: 0.0605 - val_accuracy: 0.9810\n",
      "Epoch 232/300\n",
      "906/906 [==============================] - 17s 19ms/step - loss: 0.1515 - accuracy: 0.9562 - val_loss: 0.0611 - val_accuracy: 0.9810\n",
      "Epoch 233/300\n",
      "906/906 [==============================] - 17s 19ms/step - loss: 0.1514 - accuracy: 0.9543 - val_loss: 0.0595 - val_accuracy: 0.9811\n",
      "Epoch 234/300\n",
      "906/906 [==============================] - 17s 19ms/step - loss: 0.1505 - accuracy: 0.9553 - val_loss: 0.0592 - val_accuracy: 0.9813\n",
      "Epoch 235/300\n",
      "906/906 [==============================] - 17s 19ms/step - loss: 0.1505 - accuracy: 0.9555 - val_loss: 0.0585 - val_accuracy: 0.9813\n",
      "Epoch 236/300\n",
      "906/906 [==============================] - 17s 19ms/step - loss: 0.1470 - accuracy: 0.9564 - val_loss: 0.0590 - val_accuracy: 0.9812\n",
      "Epoch 237/300\n",
      "906/906 [==============================] - 17s 19ms/step - loss: 0.1499 - accuracy: 0.9558 - val_loss: 0.0593 - val_accuracy: 0.9816\n",
      "Epoch 238/300\n",
      "906/906 [==============================] - 17s 19ms/step - loss: 0.1510 - accuracy: 0.9553 - val_loss: 0.0590 - val_accuracy: 0.9813\n",
      "Epoch 239/300\n",
      "906/906 [==============================] - 17s 19ms/step - loss: 0.1496 - accuracy: 0.9558 - val_loss: 0.0588 - val_accuracy: 0.9817\n",
      "Epoch 240/300\n",
      "906/906 [==============================] - 17s 19ms/step - loss: 0.1518 - accuracy: 0.9554 - val_loss: 0.0588 - val_accuracy: 0.9814\n",
      "Epoch 241/300\n",
      "906/906 [==============================] - 17s 19ms/step - loss: 0.1475 - accuracy: 0.9570 - val_loss: 0.0576 - val_accuracy: 0.9821\n",
      "Epoch 242/300\n",
      "906/906 [==============================] - 17s 19ms/step - loss: 0.1480 - accuracy: 0.9557 - val_loss: 0.0586 - val_accuracy: 0.9812\n",
      "Epoch 243/300\n",
      "906/906 [==============================] - 17s 19ms/step - loss: 0.1459 - accuracy: 0.9567 - val_loss: 0.0577 - val_accuracy: 0.9820\n",
      "Epoch 244/300\n",
      "906/906 [==============================] - 17s 19ms/step - loss: 0.1476 - accuracy: 0.9560 - val_loss: 0.0575 - val_accuracy: 0.9820\n",
      "Epoch 245/300\n",
      "906/906 [==============================] - 17s 19ms/step - loss: 0.1484 - accuracy: 0.9561 - val_loss: 0.0577 - val_accuracy: 0.9818\n",
      "Epoch 246/300\n",
      "906/906 [==============================] - 17s 19ms/step - loss: 0.1477 - accuracy: 0.9566 - val_loss: 0.0570 - val_accuracy: 0.9819\n",
      "Epoch 247/300\n",
      "906/906 [==============================] - 17s 19ms/step - loss: 0.1425 - accuracy: 0.9579 - val_loss: 0.0568 - val_accuracy: 0.9822\n",
      "Epoch 248/300\n",
      "906/906 [==============================] - 17s 19ms/step - loss: 0.1429 - accuracy: 0.9584 - val_loss: 0.0567 - val_accuracy: 0.9821\n",
      "Epoch 249/300\n",
      "906/906 [==============================] - 17s 19ms/step - loss: 0.1415 - accuracy: 0.9579 - val_loss: 0.0567 - val_accuracy: 0.9820\n",
      "Epoch 250/300\n",
      "906/906 [==============================] - 17s 19ms/step - loss: 0.1459 - accuracy: 0.9573 - val_loss: 0.0568 - val_accuracy: 0.9824\n",
      "Epoch 251/300\n",
      "906/906 [==============================] - 17s 19ms/step - loss: 0.1441 - accuracy: 0.9571 - val_loss: 0.0569 - val_accuracy: 0.9822\n",
      "Epoch 252/300\n",
      "906/906 [==============================] - 17s 19ms/step - loss: 0.1419 - accuracy: 0.9582 - val_loss: 0.0566 - val_accuracy: 0.9824\n",
      "Epoch 253/300\n",
      "906/906 [==============================] - 17s 19ms/step - loss: 0.1456 - accuracy: 0.9576 - val_loss: 0.0561 - val_accuracy: 0.9827\n",
      "Epoch 254/300\n",
      "906/906 [==============================] - 17s 19ms/step - loss: 0.1413 - accuracy: 0.9582 - val_loss: 0.0564 - val_accuracy: 0.9824\n",
      "Epoch 255/300\n",
      "906/906 [==============================] - 17s 19ms/step - loss: 0.1423 - accuracy: 0.9590 - val_loss: 0.0558 - val_accuracy: 0.9826\n",
      "Epoch 256/300\n",
      "906/906 [==============================] - 17s 19ms/step - loss: 0.1376 - accuracy: 0.9583 - val_loss: 0.0557 - val_accuracy: 0.9826\n",
      "Epoch 257/300\n",
      "906/906 [==============================] - 17s 19ms/step - loss: 0.1395 - accuracy: 0.9596 - val_loss: 0.0549 - val_accuracy: 0.9825\n",
      "Epoch 258/300\n",
      "906/906 [==============================] - 17s 19ms/step - loss: 0.1396 - accuracy: 0.9588 - val_loss: 0.0547 - val_accuracy: 0.9828\n",
      "Epoch 259/300\n",
      "906/906 [==============================] - 15s 16ms/step - loss: 0.1412 - accuracy: 0.9580 - val_loss: 0.0546 - val_accuracy: 0.9825\n",
      "Epoch 260/300\n",
      "906/906 [==============================] - 17s 19ms/step - loss: 0.1403 - accuracy: 0.9580 - val_loss: 0.0544 - val_accuracy: 0.9827\n",
      "Epoch 261/300\n",
      "906/906 [==============================] - 17s 19ms/step - loss: 0.1401 - accuracy: 0.9589 - val_loss: 0.0543 - val_accuracy: 0.9827\n",
      "Epoch 262/300\n",
      "906/906 [==============================] - 17s 18ms/step - loss: 0.1373 - accuracy: 0.9592 - val_loss: 0.0543 - val_accuracy: 0.9827\n",
      "Epoch 263/300\n",
      "906/906 [==============================] - 17s 19ms/step - loss: 0.1387 - accuracy: 0.9585 - val_loss: 0.0540 - val_accuracy: 0.9830\n",
      "Epoch 264/300\n",
      "906/906 [==============================] - 15s 16ms/step - loss: 0.1405 - accuracy: 0.9575 - val_loss: 0.0544 - val_accuracy: 0.9828\n",
      "Epoch 265/300\n",
      "906/906 [==============================] - 17s 19ms/step - loss: 0.1388 - accuracy: 0.9596 - val_loss: 0.0534 - val_accuracy: 0.9829\n",
      "Epoch 266/300\n",
      "906/906 [==============================] - 17s 19ms/step - loss: 0.1399 - accuracy: 0.9575 - val_loss: 0.0544 - val_accuracy: 0.9828\n",
      "Epoch 267/300\n",
      "906/906 [==============================] - 17s 19ms/step - loss: 0.1370 - accuracy: 0.9601 - val_loss: 0.0545 - val_accuracy: 0.9826\n",
      "Epoch 268/300\n",
      "906/906 [==============================] - 17s 19ms/step - loss: 0.1388 - accuracy: 0.9588 - val_loss: 0.0547 - val_accuracy: 0.9827\n",
      "Epoch 269/300\n",
      "906/906 [==============================] - 17s 19ms/step - loss: 0.1360 - accuracy: 0.9599 - val_loss: 0.0538 - val_accuracy: 0.9828\n",
      "Epoch 270/300\n",
      "906/906 [==============================] - 17s 19ms/step - loss: 0.1368 - accuracy: 0.9604 - val_loss: 0.0533 - val_accuracy: 0.9830\n",
      "Epoch 271/300\n",
      "906/906 [==============================] - 17s 18ms/step - loss: 0.1341 - accuracy: 0.9610 - val_loss: 0.0532 - val_accuracy: 0.9831\n",
      "Epoch 272/300\n",
      "906/906 [==============================] - 17s 18ms/step - loss: 0.1375 - accuracy: 0.9592 - val_loss: 0.0533 - val_accuracy: 0.9830\n",
      "Epoch 273/300\n",
      "906/906 [==============================] - 17s 18ms/step - loss: 0.1359 - accuracy: 0.9598 - val_loss: 0.0536 - val_accuracy: 0.9828\n",
      "Epoch 274/300\n",
      "906/906 [==============================] - 17s 19ms/step - loss: 0.1308 - accuracy: 0.9609 - val_loss: 0.0528 - val_accuracy: 0.9830\n",
      "Epoch 275/300\n",
      "906/906 [==============================] - 17s 19ms/step - loss: 0.1328 - accuracy: 0.9607 - val_loss: 0.0535 - val_accuracy: 0.9831\n",
      "Epoch 276/300\n",
      "906/906 [==============================] - 17s 19ms/step - loss: 0.1322 - accuracy: 0.9611 - val_loss: 0.0529 - val_accuracy: 0.9836\n",
      "Epoch 277/300\n",
      "906/906 [==============================] - 17s 19ms/step - loss: 0.1319 - accuracy: 0.9609 - val_loss: 0.0517 - val_accuracy: 0.9837\n",
      "Epoch 278/300\n",
      "906/906 [==============================] - 17s 19ms/step - loss: 0.1339 - accuracy: 0.9602 - val_loss: 0.0524 - val_accuracy: 0.9829\n",
      "Epoch 279/300\n",
      "906/906 [==============================] - 17s 19ms/step - loss: 0.1331 - accuracy: 0.9607 - val_loss: 0.0520 - val_accuracy: 0.9834\n",
      "Epoch 280/300\n",
      "906/906 [==============================] - 17s 19ms/step - loss: 0.1325 - accuracy: 0.9613 - val_loss: 0.0524 - val_accuracy: 0.9834\n",
      "Epoch 281/300\n",
      "906/906 [==============================] - 17s 19ms/step - loss: 0.1302 - accuracy: 0.9614 - val_loss: 0.0514 - val_accuracy: 0.9834\n",
      "Epoch 282/300\n",
      "906/906 [==============================] - 17s 19ms/step - loss: 0.1267 - accuracy: 0.9638 - val_loss: 0.0516 - val_accuracy: 0.9834\n",
      "Epoch 283/300\n",
      "906/906 [==============================] - 17s 19ms/step - loss: 0.1339 - accuracy: 0.9594 - val_loss: 0.0521 - val_accuracy: 0.9834\n",
      "Epoch 284/300\n",
      "906/906 [==============================] - 17s 19ms/step - loss: 0.1316 - accuracy: 0.9616 - val_loss: 0.0517 - val_accuracy: 0.9834\n",
      "Epoch 285/300\n",
      "906/906 [==============================] - 17s 19ms/step - loss: 0.1326 - accuracy: 0.9615 - val_loss: 0.0510 - val_accuracy: 0.9837\n",
      "Epoch 286/300\n",
      "906/906 [==============================] - 17s 19ms/step - loss: 0.1324 - accuracy: 0.9605 - val_loss: 0.0514 - val_accuracy: 0.9837\n",
      "Epoch 287/300\n",
      "906/906 [==============================] - 17s 19ms/step - loss: 0.1341 - accuracy: 0.9605 - val_loss: 0.0512 - val_accuracy: 0.9839\n",
      "Epoch 288/300\n",
      "906/906 [==============================] - 17s 19ms/step - loss: 0.1300 - accuracy: 0.9622 - val_loss: 0.0504 - val_accuracy: 0.9838\n",
      "Epoch 289/300\n",
      "906/906 [==============================] - 17s 19ms/step - loss: 0.1324 - accuracy: 0.9609 - val_loss: 0.0504 - val_accuracy: 0.9841\n",
      "Epoch 290/300\n",
      "906/906 [==============================] - 17s 19ms/step - loss: 0.1327 - accuracy: 0.9611 - val_loss: 0.0503 - val_accuracy: 0.9840\n",
      "Epoch 291/300\n",
      "906/906 [==============================] - 17s 19ms/step - loss: 0.1277 - accuracy: 0.9628 - val_loss: 0.0507 - val_accuracy: 0.9837\n",
      "Epoch 292/300\n",
      "906/906 [==============================] - 17s 19ms/step - loss: 0.1302 - accuracy: 0.9605 - val_loss: 0.0498 - val_accuracy: 0.9842\n",
      "Epoch 293/300\n",
      "906/906 [==============================] - 16s 18ms/step - loss: 0.1305 - accuracy: 0.9610 - val_loss: 0.0506 - val_accuracy: 0.9839\n",
      "Epoch 294/300\n",
      "906/906 [==============================] - 17s 18ms/step - loss: 0.1311 - accuracy: 0.9610 - val_loss: 0.0504 - val_accuracy: 0.9835\n",
      "Epoch 295/300\n",
      "906/906 [==============================] - 17s 19ms/step - loss: 0.1289 - accuracy: 0.9622 - val_loss: 0.0501 - val_accuracy: 0.9833\n",
      "Epoch 296/300\n",
      "906/906 [==============================] - 17s 18ms/step - loss: 0.1313 - accuracy: 0.9617 - val_loss: 0.0497 - val_accuracy: 0.9837\n",
      "Epoch 297/300\n",
      "906/906 [==============================] - 17s 18ms/step - loss: 0.1279 - accuracy: 0.9619 - val_loss: 0.0496 - val_accuracy: 0.9839\n",
      "Epoch 298/300\n",
      "906/906 [==============================] - 17s 18ms/step - loss: 0.1279 - accuracy: 0.9631 - val_loss: 0.0496 - val_accuracy: 0.9842\n",
      "Epoch 299/300\n",
      "906/906 [==============================] - 16s 18ms/step - loss: 0.1283 - accuracy: 0.9619 - val_loss: 0.0494 - val_accuracy: 0.9841\n",
      "Epoch 300/300\n",
      "906/906 [==============================] - 17s 19ms/step - loss: 0.1314 - accuracy: 0.9607 - val_loss: 0.0497 - val_accuracy: 0.9840\n"
     ]
    }
   ],
   "source": [
    "history = model.fit(X_train, Y_train, batch_size = batch_size, epochs=epochs, validation_data=(X_test, Y_test))"
   ]
  },
  {
   "cell_type": "code",
   "execution_count": 52,
   "id": "89225564-32e5-4939-8ac7-d32d04e8a079",
   "metadata": {},
   "outputs": [],
   "source": [
    "filename = \"my_model\"\n",
    "\n",
    "# 훈련된 모델과 파라미터를 저장할 폴더 생성\n",
    "os.mkdir(filename)\n",
    "    \n",
    "# inference 시 z score normalization에 사용될 평균과 표준편차 저장\n",
    "np.save(filename + \"/\" + filename + \"_avg.npy\", avg)\n",
    "np.save(filename + \"/\" + filename + \"_std.npy\", std)\n",
    "    \n",
    "model.save(filename + \"/\" + filename + \".h5\")"
   ]
  },
  {
   "cell_type": "code",
   "execution_count": 53,
   "id": "a3b431c8-0387-452c-a400-8d9e376f909c",
   "metadata": {
    "scrolled": true
   },
   "outputs": [
    {
     "data": {
      "image/png": "[encoded data removed]",
      "text/plain": [
       "<Figure size 2000x400 with 2 Axes>"
      ]
     },
     "metadata": {},
     "output_type": "display_data"
    }
   ],
   "source": [
    "f, (ax1, ax2) = plt.subplots(1, 2, figsize=(20, 4))\n",
    "t = f.suptitle('Accuracy and Loss Performance of Marine Genetic Abnormalities Detection Models ', fontsize=15)\n",
    "f.subplots_adjust(top=0.85, wspace=0.3)\n",
    "\n",
    "epoch_list = list(range(1,epochs+1))\n",
    "ax1.plot(epoch_list, history.history['accuracy'], label='Train Accuracy')\n",
    "ax1.plot(epoch_list, history.history['val_accuracy'], label='Validation Accuracy')\n",
    "ax1.set_xticks(np.arange(0, epochs+1, 1))\n",
    "ax1.set_ylabel('Accuracy Value')\n",
    "ax1.set_xlabel('Epoch #')\n",
    "ax1.set_title('Accuracy')\n",
    "l1 = ax1.legend(loc=\"best\")\n",
    "\n",
    "ax2.plot(epoch_list, history.history['loss'], label='Train Loss')\n",
    "ax2.plot(epoch_list, history.history['val_loss'], label='Validation Loss')\n",
    "ax2.set_xticks(np.arange(0, epochs+1, 1))\n",
    "ax2.set_ylabel('Loss Value')\n",
    "ax2.set_xlabel('Epoch #')\n",
    "ax2.set_title('Loss')\n",
    "l2 = ax2.legend(loc=\"best\")"
   ]
  },
  {
   "cell_type": "code",
   "execution_count": 86,
   "id": "9e07322f-73ff-4a38-8d85-b56d91d96709",
   "metadata": {},
   "outputs": [],
   "source": [
    "    X_ = []\n",
    "    Y_ = []\n",
    "    p_pdg_ = []\n",
    "    p_tpt_ = []\n",
    "    t_tpt_ = []\n",
    "    p_mon_ckp_ = []\n",
    "    t_jus_ckp_ = []\n",
    "    p_jus_ckgl_ = []\n",
    "    concat_data_ = []\n",
    "    label_ = []\n",
    "    segment_sec = 5\n",
    "    \n",
    "    with open('test.csv', 'r') as file:\n",
    "        #df = pd.read_csv(file)\n",
    "        csv_reader = csv.DictReader(file)    \n",
    "        for csv_data in csv_reader:\n",
    "            for key, val in csv_data.items():\n",
    "                if key == \"P-PDG\":\n",
    "                    p_pdg_.append(float(val))\n",
    "                elif key == \"P-TPT\":\n",
    "                    p_tpt_.append(float(val))\n",
    "                elif key == \"T-TPT\":\n",
    "                    t_tpt_.append(float(val))\n",
    "                elif key == \"P-MON-CKP\":\n",
    "                    p_mon_ckp_.append(float(val))\n",
    "                elif key == \"T-JUS-CKP\":\n",
    "                    t_jus_ckp_.append(float(val))\n",
    "                elif key == \"P-JUS-CKGL\":\n",
    "                    p_jus_ckgl_.append(float(val))\n",
    "                elif key == \"class\":\n",
    "                    if val == '0':\n",
    "                        label_.append(0)\n",
    "                    elif val == '1':\n",
    "                        label_.append(1)\n",
    "                    elif val == '101':\n",
    "                        label_.append(1)\n",
    "                    elif val == '2':\n",
    "                        label_.append(2)\n",
    "                    elif val == '102':\n",
    "                        label_.append(2)\n",
    "                    elif val == '3':\n",
    "                        label_.append(3)\n",
    "                    elif val == '4':\n",
    "                        label_.append(4)\n",
    "                    elif val == '5':\n",
    "                        label_.append(5)\n",
    "                    elif val == '105':\n",
    "                        label_.append(5)\n",
    "                    elif val == '6':\n",
    "                        label_.append(6)\n",
    "                    elif val == '106':\n",
    "                        label_.append(6)\n",
    "                    elif val == '7':\n",
    "                        label_.append(7)\n",
    "                    elif val == '107':\n",
    "                        label_.append(7)\n",
    "                    elif val == '8':\n",
    "                        label_.append(8)\n",
    "                    elif val == '108':\n",
    "                        label_.append(8)"
   ]
  },
  {
   "cell_type": "code",
   "execution_count": 87,
   "id": "aab48a86-348a-4eaf-865e-585c244c9a2f",
   "metadata": {},
   "outputs": [],
   "source": [
    "    # Data concat \n",
    "    # Simulated = P-PDG, P-TPT, P-MON-CKP, T-JUS-CKP\n",
    "    # Real = P-PDG, P-TPT, T-TPT, P-MON-CKP, T-JUS-CKP, P-JUS-CKGL\n",
    "    \n",
    "    p_pdg_                = np.expand_dims(p_pdg_, axis = 1)\n",
    "    p_tpt_                = np.expand_dims(p_tpt_, axis = 1)\n",
    "    #t_tpt                = np.expand_dims(t_tpt, axis = 1)\n",
    "    p_mon_ckp_            = np.expand_dims(p_mon_ckp_, axis = 1)\n",
    "    t_jus_ckp_            = np.expand_dims(t_jus_ckp_, axis = 1)\n",
    "    #p_jus_ckgl           = np.expand_dims(p_jus_ckgl, axis = 1)\n",
    "       \n",
    "    # Real Data Concat\n",
    "    #concat_data        = np.concatenate((p_pdg, p_tpt, t_tpt, p_mon_ckp, t_jus_ckp, p_jus_ckgl), axis = 1)\n",
    "    \n",
    "    # Simulated Data Concat\n",
    "    concat_data_        = np.concatenate((p_pdg_, p_tpt_, p_mon_ckp_, t_jus_ckp_), axis = 1)\n",
    "    \n",
    "    # Label\n",
    "    label_              = np.expand_dims(label_, axis = 1)"
   ]
  },
  {
   "cell_type": "code",
   "execution_count": 88,
   "id": "284798a4-4b33-4754-918e-040fec5363ba",
   "metadata": {},
   "outputs": [],
   "source": [
    "# segment_sec를 간격으로 하나의 데이터 세트로 생성\n",
    "X_ = np.array([ concat_data_[i:i+5] for i in range(0, len(concat_data_) - segment_sec, segment_sec) ])\n",
    "\n",
    "# segment_sec를 간격으로 하나의 Label을 생성.\n",
    "Y_ = np.expand_dims([stats.mode(label_[i:i+segment_sec])[0][0] for i in range(0, len(concat_data_) - segment_sec, segment_sec)], axis=1)"
   ]
  },
  {
   "cell_type": "code",
   "execution_count": 89,
   "id": "1d3f54d9-06f5-4709-8064-d99411434766",
   "metadata": {},
   "outputs": [],
   "source": [
    "X_ = np.array(X_)"
   ]
  },
  {
   "cell_type": "code",
   "execution_count": 90,
   "id": "c23e65db-fc02-4796-8888-b37ec3090504",
   "metadata": {},
   "outputs": [],
   "source": [
    "Y_ = np.array(Y_)"
   ]
  },
  {
   "cell_type": "code",
   "execution_count": 91,
   "id": "cced21aa-527c-4261-a930-d06054466ce6",
   "metadata": {},
   "outputs": [
    {
     "data": {
      "text/plain": [
       "(2999, 5, 4)"
      ]
     },
     "execution_count": 91,
     "metadata": {},
     "output_type": "execute_result"
    }
   ],
   "source": [
    "np.shape(X_)"
   ]
  },
  {
   "cell_type": "code",
   "execution_count": 95,
   "id": "789d1d2d-be4d-4ae9-bf84-a281db819bcb",
   "metadata": {},
   "outputs": [
    {
     "data": {
      "text/plain": [
       "(2999, 9)"
      ]
     },
     "execution_count": 95,
     "metadata": {},
     "output_type": "execute_result"
    }
   ],
   "source": [
    "np.shape(Y_)"
   ]
  },
  {
   "cell_type": "code",
   "execution_count": 93,
   "id": "853a40cd-310c-4336-9b32-b3f632c7a667",
   "metadata": {},
   "outputs": [],
   "source": [
    "Y_ = tf.keras.utils.to_categorical(Y_) # one-hot encoding"
   ]
  },
  {
   "cell_type": "code",
   "execution_count": 94,
   "id": "b3d0ec23-184f-42dd-ba6a-5e71e6bd605a",
   "metadata": {},
   "outputs": [],
   "source": [
    "Y_ = Y_.reshape(-1,9)"
   ]
  },
  {
   "cell_type": "code",
   "execution_count": 63,
   "id": "52ede3cf-8b32-455d-b154-88678925571c",
   "metadata": {},
   "outputs": [],
   "source": [
    "shape = X_.shape\n",
    "reshape_X_ = np.reshape(X_,(shape[0] * shape[1] ,shape[2]))\n",
    "\n",
    "avg_ = np.mean(reshape_X_, axis=0)"
   ]
  },
  {
   "cell_type": "code",
   "execution_count": 64,
   "id": "5c663e73-2903-4818-aa25-32e8039f2972",
   "metadata": {},
   "outputs": [
    {
     "data": {
      "text/plain": [
       "array([-1.26235816e+41,  1.82603314e+07,  4.86420903e+06,  7.13717202e+01])"
      ]
     },
     "execution_count": 64,
     "metadata": {},
     "output_type": "execute_result"
    }
   ],
   "source": [
    "avg_"
   ]
  },
  {
   "cell_type": "code",
   "execution_count": 65,
   "id": "9b2da3e9-1c75-476b-9d83-08d9694dfaaf",
   "metadata": {},
   "outputs": [],
   "source": [
    "shape = X_.shape\n",
    "reshape_X_ = np.reshape(X_,(shape[0] * shape[1] ,shape[2]))\n",
    "\n",
    "std_ = np.std(reshape_X_, axis=0)"
   ]
  },
  {
   "cell_type": "code",
   "execution_count": 66,
   "id": "16796e85-c1b2-4018-b09c-79bc7f7de20e",
   "metadata": {},
   "outputs": [
    {
     "data": {
      "text/plain": [
       "array([3.64742958e+41, 7.94326606e+07, 3.57579675e+06, 2.84608294e+01])"
      ]
     },
     "execution_count": 66,
     "metadata": {},
     "output_type": "execute_result"
    }
   ],
   "source": [
    "std_"
   ]
  },
  {
   "cell_type": "code",
   "execution_count": 67,
   "id": "08f348b3-b322-4845-b523-49202dd70ca1",
   "metadata": {},
   "outputs": [],
   "source": [
    "X_ = (X_ - avg_) / std_"
   ]
  },
  {
   "cell_type": "code",
   "execution_count": 68,
   "id": "dcf4a6f1-765e-44a9-b9b8-74fbd1a37744",
   "metadata": {},
   "outputs": [
    {
     "data": {
      "text/plain": [
       "(2999, 5, 4)"
      ]
     },
     "execution_count": 68,
     "metadata": {},
     "output_type": "execute_result"
    }
   ],
   "source": [
    "np.shape(X_)"
   ]
  },
  {
   "cell_type": "code",
   "execution_count": 69,
   "id": "f1c5f4c3-3c1f-468c-a077-0d36d3b10123",
   "metadata": {},
   "outputs": [
    {
     "name": "stdout",
     "output_type": "stream",
     "text": [
      "94/94 [==============================] - 1s 5ms/step\n"
     ]
    }
   ],
   "source": [
    "y_predict = model.predict(X_)"
   ]
  },
  {
   "cell_type": "code",
   "execution_count": 71,
   "id": "178b9f55-7088-4f53-983f-d4abf63a8938",
   "metadata": {
    "scrolled": true
   },
   "outputs": [
    {
     "name": "stdout",
     "output_type": "stream",
     "text": [
      "[[9.9889648e-01 7.5325763e-05 2.3687526e-05 ... 4.7635072e-05\n",
      "  6.8079908e-07 3.1469806e-06]\n",
      " [9.9953413e-01 2.9060166e-04 4.5742868e-06 ... 2.7246293e-07\n",
      "  1.6024488e-06 1.6502244e-07]\n",
      " [9.9948740e-01 5.5496261e-05 1.3490620e-05 ... 8.0333775e-06\n",
      "  6.1714366e-07 1.2817219e-06]\n",
      " ...\n",
      " [1.1147847e-05 5.7319921e-10 3.9069511e-07 ... 3.2133261e-07\n",
      "  1.1194236e-06 9.9993443e-01]\n",
      " [1.4237042e-05 8.9834457e-10 5.3779962e-07 ... 4.6574291e-07\n",
      "  1.5382736e-06 9.9991584e-01]\n",
      " [1.2429900e-05 7.0839917e-10 4.4711149e-07 ... 3.9491857e-07\n",
      "  1.2680190e-06 9.9992633e-01]]\n"
     ]
    }
   ],
   "source": [
    "print (y_predict)"
   ]
  },
  {
   "cell_type": "code",
   "execution_count": 105,
   "id": "9cb22573-f0fb-478d-ae04-b59c8f08c5a1",
   "metadata": {},
   "outputs": [],
   "source": [
    "y_predict_binary = (y_predict > 0.5).astype(int)"
   ]
  },
  {
   "cell_type": "code",
   "execution_count": 107,
   "id": "30cc3a05-3428-4053-abbe-994817332c5c",
   "metadata": {},
   "outputs": [
    {
     "data": {
      "text/plain": [
       "array([[1, 0, 0, ..., 0, 0, 0],\n",
       "       [1, 0, 0, ..., 0, 0, 0],\n",
       "       [1, 0, 0, ..., 0, 0, 0],\n",
       "       ...,\n",
       "       [0, 0, 0, ..., 0, 0, 1],\n",
       "       [0, 0, 0, ..., 0, 0, 1],\n",
       "       [0, 0, 0, ..., 0, 0, 1]])"
      ]
     },
     "execution_count": 107,
     "metadata": {},
     "output_type": "execute_result"
    }
   ],
   "source": [
    "y_predict_binary"
   ]
  },
  {
   "cell_type": "code",
   "execution_count": 103,
   "id": "27038704-4f7e-4d70-ae52-11277abc9f22",
   "metadata": {},
   "outputs": [
    {
     "data": {
      "text/plain": [
       "(2999, 9)"
      ]
     },
     "execution_count": 103,
     "metadata": {},
     "output_type": "execute_result"
    }
   ],
   "source": [
    "y_predict.shape"
   ]
  },
  {
   "cell_type": "code",
   "execution_count": 108,
   "id": "811143ed-9310-4923-818c-2705477f834e",
   "metadata": {},
   "outputs": [
    {
     "data": {
      "text/plain": [
       "(2999, 9)"
      ]
     },
     "execution_count": 108,
     "metadata": {},
     "output_type": "execute_result"
    }
   ],
   "source": [
    "Y_.shape"
   ]
  },
  {
   "cell_type": "code",
   "execution_count": 112,
   "id": "684d03c9-ddcd-4650-b2d1-045caf3ed527",
   "metadata": {
    "scrolled": true
   },
   "outputs": [
    {
     "name": "stdout",
     "output_type": "stream",
     "text": [
      "Precision: 0.99\n",
      "Recall: 0.99\n",
      "F1 Score: 0.99\n"
     ]
    }
   ],
   "source": [
    "from sklearn.metrics import precision_score, recall_score, f1_score\n",
    "\n",
    "precision = precision_score(Y_, y_predict_binary, average='samples')\n",
    "recall = recall_score(Y_, y_predict_binary, average='samples')\n",
    "f1 = f1_score(Y_, y_predict_binary, average='samples')\n",
    "\n",
    "print(f\"Precision: {precision:.2f}\")\n",
    "print(f\"Recall: {recall:.2f}\")\n",
    "print(f\"F1 Score: {f1:.2f}\")"
   ]
  },
  {
   "cell_type": "code",
   "execution_count": null,
   "id": "6f24d4c1-f586-4a2b-9c3a-f2156ec1dad4",
   "metadata": {},
   "outputs": [],
   "source": []
  }
 ],
 "metadata": {
  "kernelspec": {
   "display_name": "Python 3 (ipykernel)",
   "language": "python",
   "name": "python3"
  },
  "language_info": {
   "codemirror_mode": {
    "name": "ipython",
    "version": 3
   },
   "file_extension": ".py",
   "mimetype": "text/x-python",
   "name": "python",
   "nbconvert_exporter": "python",
   "pygments_lexer": "ipython3",
   "version": "3.9.0"
  }
 },
 "nbformat": 4,
 "nbformat_minor": 5
}
